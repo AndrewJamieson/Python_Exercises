{
 "cells": [
  {
   "cell_type": "markdown",
   "metadata": {},
   "source": [
    "# Python Exercises"
   ]
  },
  {
   "cell_type": "markdown",
   "metadata": {},
   "source": [
    "#### Fizz Buzz"
   ]
  },
  {
   "cell_type": "markdown",
   "metadata": {},
   "source": [
    "Players generally sit in a circle. The player designated to go first says the number \"1\", and the players then count upwards in turn. However, any number divisible by three is replaced by the word fizz and any number divisible by five by the word buzz. Numbers divisible by both 3 and 5 become fizz buzz. A player who hesitates or makes a mistake is eliminated from the game."
   ]
  },
  {
   "cell_type": "code",
   "execution_count": 1,
   "metadata": {},
   "outputs": [
    {
     "name": "stdout",
     "output_type": "stream",
     "text": [
      "1\n",
      "2\n",
      "Fizz\n",
      "4\n",
      "Buzz\n",
      "Fizz\n",
      "7\n",
      "8\n",
      "Fizz\n",
      "Buzz\n",
      "11\n",
      "Fizz\n",
      "13\n",
      "14\n",
      "FizzBuzz\n",
      "16\n",
      "17\n",
      "Fizz\n",
      "19\n",
      "Buzz\n",
      "Fizz\n",
      "22\n",
      "23\n",
      "Fizz\n",
      "Buzz\n",
      "26\n",
      "Fizz\n",
      "28\n",
      "29\n",
      "FizzBuzz\n",
      "31\n",
      "32\n",
      "Fizz\n",
      "34\n",
      "Buzz\n",
      "Fizz\n",
      "37\n",
      "38\n",
      "Fizz\n",
      "Buzz\n",
      "41\n",
      "Fizz\n",
      "43\n",
      "44\n",
      "FizzBuzz\n",
      "46\n",
      "47\n",
      "Fizz\n",
      "49\n",
      "Buzz\n",
      "Fizz\n",
      "52\n",
      "53\n",
      "Fizz\n",
      "Buzz\n",
      "56\n",
      "Fizz\n",
      "58\n",
      "59\n",
      "FizzBuzz\n",
      "61\n",
      "62\n",
      "Fizz\n",
      "64\n",
      "Buzz\n",
      "Fizz\n",
      "67\n",
      "68\n",
      "Fizz\n",
      "Buzz\n",
      "71\n",
      "Fizz\n",
      "73\n",
      "74\n",
      "FizzBuzz\n",
      "76\n",
      "77\n",
      "Fizz\n",
      "79\n",
      "Buzz\n",
      "Fizz\n",
      "82\n",
      "83\n",
      "Fizz\n",
      "Buzz\n",
      "86\n",
      "Fizz\n",
      "88\n",
      "89\n",
      "FizzBuzz\n",
      "91\n",
      "92\n",
      "Fizz\n",
      "94\n",
      "Buzz\n",
      "Fizz\n",
      "97\n",
      "98\n",
      "Fizz\n"
     ]
    }
   ],
   "source": [
    "# Fizz Buzz\n",
    "for i in range(1,100):\n",
    "    if i % 15 == 0:     # start with the case for both divisors. Test for modulo if divided by 15 \n",
    "        print('FizzBuzz')\n",
    "    elif i % 5 == 0 :   # Test for modulo if divided by 5\n",
    "        print('Buzz')\n",
    "    elif i % 3 == 0:    # Test for modulo if divided by 3\n",
    "        print('Fizz')\n",
    "    else:\n",
    "        print(i)"
   ]
  },
  {
   "cell_type": "code",
   "execution_count": null,
   "metadata": {},
   "outputs": [],
   "source": []
  },
  {
   "cell_type": "markdown",
   "metadata": {},
   "source": [
    "#### Prime Number Function"
   ]
  },
  {
   "cell_type": "code",
   "execution_count": 4,
   "metadata": {},
   "outputs": [],
   "source": [
    "def is_prime(num):\n",
    "    for i in range(2,int(num/2)): # loop through all possible factors up to half of the number\n",
    "        if num % i == 0: # if iterator has no modulo can't be prime\n",
    "            return False\n",
    "        \n",
    "    return True"
   ]
  },
  {
   "cell_type": "code",
   "execution_count": 5,
   "metadata": {},
   "outputs": [
    {
     "data": {
      "text/plain": [
       "False"
      ]
     },
     "execution_count": 5,
     "metadata": {},
     "output_type": "execute_result"
    }
   ],
   "source": [
    "is_prime(57)"
   ]
  },
  {
   "cell_type": "code",
   "execution_count": 6,
   "metadata": {},
   "outputs": [
    {
     "data": {
      "text/plain": [
       "True"
      ]
     },
     "execution_count": 6,
     "metadata": {},
     "output_type": "execute_result"
    }
   ],
   "source": [
    "is_prime(23)"
   ]
  },
  {
   "cell_type": "markdown",
   "metadata": {},
   "source": [
    "#### Duplicates Function"
   ]
  },
  {
   "cell_type": "markdown",
   "metadata": {},
   "source": [
    "Take a list of numbers and return only the duplicates"
   ]
  },
  {
   "cell_type": "code",
   "execution_count": 7,
   "metadata": {},
   "outputs": [],
   "source": [
    "a =[1,2,2,3,3,4,5,5]"
   ]
  },
  {
   "cell_type": "code",
   "execution_count": 11,
   "metadata": {},
   "outputs": [],
   "source": [
    "def duplicates(sequence):\n",
    "    \n",
    "    seen = []\n",
    "    seen_twice= [] # create empty lists\n",
    "    \n",
    "    for i in sequence:\n",
    "        if i in seen:\n",
    "            seen_twice.append(i)\n",
    "        else:\n",
    "            seen.append(i)\n",
    "    return seen_twice"
   ]
  },
  {
   "cell_type": "code",
   "execution_count": 12,
   "metadata": {},
   "outputs": [
    {
     "data": {
      "text/plain": [
       "[2, 3, 5]"
      ]
     },
     "execution_count": 12,
     "metadata": {},
     "output_type": "execute_result"
    }
   ],
   "source": [
    "duplicates(a)"
   ]
  },
  {
   "cell_type": "markdown",
   "metadata": {},
   "source": [
    "#### Duplicates Function - List Comprehension"
   ]
  },
  {
   "cell_type": "code",
   "execution_count": 15,
   "metadata": {},
   "outputs": [],
   "source": [
    "def duplicates_lc(seq):\n",
    "    return list(set([x for x in seq if seq.count(x) >1]))"
   ]
  },
  {
   "cell_type": "code",
   "execution_count": 16,
   "metadata": {},
   "outputs": [
    {
     "data": {
      "text/plain": [
       "[2, 3, 5]"
      ]
     },
     "execution_count": 16,
     "metadata": {},
     "output_type": "execute_result"
    }
   ],
   "source": [
    "duplicates_lc(a)"
   ]
  },
  {
   "cell_type": "code",
   "execution_count": null,
   "metadata": {},
   "outputs": [],
   "source": []
  },
  {
   "cell_type": "markdown",
   "metadata": {},
   "source": [
    "#### Palindrome"
   ]
  },
  {
   "cell_type": "markdown",
   "metadata": {},
   "source": [
    "Palindrome: a word, phrase, or sequence that reads the same backward as forward, e.g., madam or nurses run.\n",
    "Create a function to test if a word is a palindrome"
   ]
  },
  {
   "cell_type": "code",
   "execution_count": 25,
   "metadata": {},
   "outputs": [],
   "source": [
    "def palindrome(word):\n",
    "    reverse = word[::-1]\n",
    "    if word == reverse:\n",
    "        return f\"{word} is a palindrome\"\n",
    "    else:\n",
    "        return f\"{word} is not a palindrome\""
   ]
  },
  {
   "cell_type": "code",
   "execution_count": 29,
   "metadata": {},
   "outputs": [
    {
     "data": {
      "text/plain": [
       "'madam is a palindrome'"
      ]
     },
     "execution_count": 29,
     "metadata": {},
     "output_type": "execute_result"
    }
   ],
   "source": [
    "palindrome('madam')"
   ]
  },
  {
   "cell_type": "code",
   "execution_count": 30,
   "metadata": {},
   "outputs": [
    {
     "data": {
      "text/plain": [
       "'adam is not a palindrome'"
      ]
     },
     "execution_count": 30,
     "metadata": {},
     "output_type": "execute_result"
    }
   ],
   "source": [
    "palindrome('adam')"
   ]
  },
  {
   "cell_type": "code",
   "execution_count": 31,
   "metadata": {},
   "outputs": [
    {
     "data": {
      "text/plain": [
       "\"madam I'm adam is not a palindrome\""
      ]
     },
     "execution_count": 31,
     "metadata": {},
     "output_type": "execute_result"
    }
   ],
   "source": [
    "palindrome(\"madam I'm adam\")"
   ]
  },
  {
   "cell_type": "markdown",
   "metadata": {},
   "source": [
    "#### Palindrome including phrases and numbers"
   ]
  },
  {
   "cell_type": "code",
   "execution_count": 79,
   "metadata": {},
   "outputs": [],
   "source": [
    "punctuation = \"!@#$%^&*()_+<>?:.,;''-\"  # punctuation list"
   ]
  },
  {
   "cell_type": "code",
   "execution_count": 85,
   "metadata": {},
   "outputs": [],
   "source": [
    "def palindrome_p(phrase):\n",
    "    str_phrase = str(phrase).lower().replace(\" \",\"\").replace('\"', '') # convert to string and remove capital letters and spaces\n",
    "    for char in str_phrase:\n",
    "        if char in punctuation:\n",
    "            str_phrase = str_phrase.replace(char, \"\")\n",
    "    \n",
    "    reverse = str_phrase[::-1]\n",
    "    if str_phrase == reverse:\n",
    "        return f\"{phrase} is a palindrome\"\n",
    "    else:\n",
    "        return f\"{str_phrase} is not a palindrome\""
   ]
  },
  {
   "cell_type": "code",
   "execution_count": 86,
   "metadata": {},
   "outputs": [
    {
     "data": {
      "text/plain": [
       "\"madam, I'm adam is a palindrome\""
      ]
     },
     "execution_count": 86,
     "metadata": {},
     "output_type": "execute_result"
    }
   ],
   "source": [
    "palindrome_p(\"madam, I'm adam\")"
   ]
  },
  {
   "cell_type": "code",
   "execution_count": 87,
   "metadata": {},
   "outputs": [
    {
     "data": {
      "text/plain": [
       "'5555 is a palindrome'"
      ]
     },
     "execution_count": 87,
     "metadata": {},
     "output_type": "execute_result"
    }
   ],
   "source": [
    "palindrome_p(5555)"
   ]
  },
  {
   "cell_type": "code",
   "execution_count": 88,
   "metadata": {},
   "outputs": [
    {
     "data": {
      "text/plain": [
       "'Mr. Owl ate my metal worm is a palindrome'"
      ]
     },
     "execution_count": 88,
     "metadata": {},
     "output_type": "execute_result"
    }
   ],
   "source": [
    "palindrome_p(\"Mr. Owl ate my metal worm\")"
   ]
  },
  {
   "cell_type": "markdown",
   "metadata": {},
   "source": [
    "Demetri Martin's Palindrome <br>\n",
    "https://web.archive.org/web/20100629014254/http://classes.yale.edu/fractals/Panorama/Literature/Martin/MartinPalindrome.html"
   ]
  },
  {
   "cell_type": "code",
   "execution_count": 91,
   "metadata": {},
   "outputs": [],
   "source": [
    "DIM = '''Dammit I'm mad   Evil is a deed as I live.   God, am I reviled?   I rise, my bed on a sun, I melt.   To be not one man emanating is sad. I piss.   Alas it is so late. Who stops to help? Man, it is hot.       I'm in it.   I tell.   I am not a devil.   I level \"Mad Dog\".       Ah, say burning is as a deified gulp   in my halo of a mired rum tin.   I erase many men. Oh, to be man, a sin.   Is evil in a clam? In a trap?   No. It is open.   On it I was stuck.       Rats peed on hope.   Elsewhere dips a web.   Be still if I fill its ebb.   Ew, a spider ... eh?   We sleep.       Oh no!   Deep, stark cuts saw it in one position.   Part animal, can I live? Sin is a name.   Both, one ... my names are in it. Murder?   I'm a fool. A hymn I plug,   Deified as a sign in ruby ash - a Goddam level I lived at.       On mail let it in. I'm it.   Oh, sit in ample hot spots.   Oh, wet!   A loss it is alas (sip). I'd assign it a name.   Name not one bottle minus an ode by me:   \"Sir, I deliver. I'm a dog.\"   Evil is a deed as I live.   Dammit I'm mad.'''"
   ]
  },
  {
   "cell_type": "code",
   "execution_count": 92,
   "metadata": {},
   "outputs": [
    {
     "data": {
      "text/plain": [
       "'Dammit I\\'m mad   Evil is a deed as I live.   God, am I reviled?   I rise, my bed on a sun, I melt.   To be not one man emanating is sad. I piss.   Alas it is so late. Who stops to help? Man, it is hot.       I\\'m in it.   I tell.   I am not a devil.   I level \"Mad Dog\".       Ah, say burning is as a deified gulp   in my halo of a mired rum tin.   I erase many men. Oh, to be man, a sin.   Is evil in a clam? In a trap?   No. It is open.   On it I was stuck.       Rats peed on hope.   Elsewhere dips a web.   Be still if I fill its ebb.   Ew, a spider ... eh?   We sleep.       Oh no!   Deep, stark cuts saw it in one position.   Part animal, can I live? Sin is a name.   Both, one ... my names are in it. Murder?   I\\'m a fool. A hymn I plug,   Deified as a sign in ruby ash - a Goddam level I lived at.       On mail let it in. I\\'m it.   Oh, sit in ample hot spots.   Oh, wet!   A loss it is alas (sip). I\\'d assign it a name.   Name not one bottle minus an ode by me:   \"Sir, I deliver. I\\'m a dog.\"   Evil is a deed as I live.   Dammit I\\'m mad. is a palindrome'"
      ]
     },
     "execution_count": 92,
     "metadata": {},
     "output_type": "execute_result"
    }
   ],
   "source": [
    "palindrome_p(DIM)"
   ]
  },
  {
   "cell_type": "code",
   "execution_count": null,
   "metadata": {},
   "outputs": [],
   "source": []
  },
  {
   "cell_type": "markdown",
   "metadata": {},
   "source": [
    "#### Fibonacci Sequence"
   ]
  },
  {
   "cell_type": "code",
   "execution_count": 2,
   "metadata": {},
   "outputs": [],
   "source": [
    "# Fibonacci sequence\n",
    "# 0 returns 0, counts as 0th item, 1 is 1st item\n",
    "\n",
    "def fib(a):\n",
    "    f1 = 0\n",
    "    f2 = 1\n",
    "    fibo =[]\n",
    "    for i in range(0,a+1):\n",
    "        fibo.append(f1)\n",
    "        fibsum = f1+f2\n",
    "        f1 = f2\n",
    "        f2 = fibsum\n",
    "    return fibo"
   ]
  },
  {
   "cell_type": "code",
   "execution_count": 3,
   "metadata": {},
   "outputs": [
    {
     "data": {
      "text/plain": [
       "[0, 1, 1, 2, 3, 5, 8, 13, 21, 34, 55]"
      ]
     },
     "execution_count": 3,
     "metadata": {},
     "output_type": "execute_result"
    }
   ],
   "source": [
    "fib(10)"
   ]
  },
  {
   "cell_type": "code",
   "execution_count": null,
   "metadata": {},
   "outputs": [],
   "source": []
  },
  {
   "cell_type": "code",
   "execution_count": null,
   "metadata": {},
   "outputs": [],
   "source": []
  }
 ],
 "metadata": {
  "kernelspec": {
   "display_name": "Python 3",
   "language": "python",
   "name": "python3"
  },
  "language_info": {
   "codemirror_mode": {
    "name": "ipython",
    "version": 3
   },
   "file_extension": ".py",
   "mimetype": "text/x-python",
   "name": "python",
   "nbconvert_exporter": "python",
   "pygments_lexer": "ipython3",
   "version": "3.7.7"
  }
 },
 "nbformat": 4,
 "nbformat_minor": 4
}

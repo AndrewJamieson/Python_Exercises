{
 "cells": [
  {
   "cell_type": "markdown",
   "metadata": {},
   "source": [
    "# Python Exercises"
   ]
  },
  {
   "cell_type": "markdown",
   "metadata": {},
   "source": [
    "#### Fizz Buzz"
   ]
  },
  {
   "cell_type": "markdown",
   "metadata": {},
   "source": [
    "Players generally sit in a circle. The player designated to go first says the number \"1\", and the players then count upwards in turn. However, any number divisible by three is replaced by the word fizz and any number divisible by five by the word buzz. Numbers divisible by both 3 and 5 become fizz buzz. A player who hesitates or makes a mistake is eliminated from the game."
   ]
  },
  {
   "cell_type": "code",
   "execution_count": 2,
   "metadata": {},
   "outputs": [
    {
     "name": "stdout",
     "output_type": "stream",
     "text": [
      "1\n",
      "2\n",
      "Fizz\n",
      "4\n",
      "Buzz\n",
      "Fizz\n",
      "7\n",
      "8\n",
      "Fizz\n",
      "Buzz\n",
      "11\n",
      "Fizz\n",
      "13\n",
      "14\n",
      "FizzBuzz\n",
      "16\n",
      "17\n",
      "Fizz\n",
      "19\n",
      "Buzz\n",
      "Fizz\n",
      "22\n",
      "23\n",
      "Fizz\n",
      "Buzz\n",
      "26\n",
      "Fizz\n",
      "28\n",
      "29\n",
      "FizzBuzz\n",
      "31\n",
      "32\n",
      "Fizz\n",
      "34\n",
      "Buzz\n",
      "Fizz\n",
      "37\n",
      "38\n",
      "Fizz\n",
      "Buzz\n",
      "41\n",
      "Fizz\n",
      "43\n",
      "44\n",
      "FizzBuzz\n",
      "46\n",
      "47\n",
      "Fizz\n",
      "49\n",
      "Buzz\n",
      "Fizz\n",
      "52\n",
      "53\n",
      "Fizz\n",
      "Buzz\n",
      "56\n",
      "Fizz\n",
      "58\n",
      "59\n",
      "FizzBuzz\n",
      "61\n",
      "62\n",
      "Fizz\n",
      "64\n",
      "Buzz\n",
      "Fizz\n",
      "67\n",
      "68\n",
      "Fizz\n",
      "Buzz\n",
      "71\n",
      "Fizz\n",
      "73\n",
      "74\n",
      "FizzBuzz\n",
      "76\n",
      "77\n",
      "Fizz\n",
      "79\n",
      "Buzz\n",
      "Fizz\n",
      "82\n",
      "83\n",
      "Fizz\n",
      "Buzz\n",
      "86\n",
      "Fizz\n",
      "88\n",
      "89\n",
      "FizzBuzz\n",
      "91\n",
      "92\n",
      "Fizz\n",
      "94\n",
      "Buzz\n",
      "Fizz\n",
      "97\n",
      "98\n",
      "Fizz\n"
     ]
    }
   ],
   "source": [
    "# Fizz Buzz\n",
    "for i in range(1,100):\n",
    "    if i % 15 == 0:     # start with the case for both divisors. Test for modulo if divided by 15 \n",
    "        print('FizzBuzz')\n",
    "    elif i % 5 == 0 :   # Test for modulo if divided by 5\n",
    "        print('Buzz')\n",
    "    elif i % 3 == 0:    # Test for modulo if divided by 3\n",
    "        print('Fizz')\n",
    "    else:\n",
    "        print(i)"
   ]
  },
  {
   "cell_type": "code",
   "execution_count": null,
   "metadata": {},
   "outputs": [],
   "source": []
  },
  {
   "cell_type": "markdown",
   "metadata": {},
   "source": [
    "#### Prime Number Function"
   ]
  },
  {
   "cell_type": "code",
   "execution_count": 33,
   "metadata": {},
   "outputs": [],
   "source": [
    "def is_prime(num):\n",
    "    for i in range(2,int(num//2)+1): # loop through all possible factors up to half of the number + 1\n",
    "        if num % i == 0: # if iterator has no modulo can't be prime\n",
    "            return False\n",
    "        \n",
    "    return True\n"
   ]
  },
  {
   "cell_type": "code",
   "execution_count": 3,
   "metadata": {},
   "outputs": [],
   "source": [
    "def is_prime2(num):\n",
    "    for i in range (2,int(num//2)+1):\n",
    "        if num % i == 0:\n",
    "            return False\n",
    "    return True"
   ]
  },
  {
   "cell_type": "code",
   "execution_count": 4,
   "metadata": {},
   "outputs": [
    {
     "data": {
      "text/plain": [
       "False"
      ]
     },
     "execution_count": 4,
     "metadata": {},
     "output_type": "execute_result"
    }
   ],
   "source": [
    "is_prime2(4)"
   ]
  },
  {
   "cell_type": "code",
   "execution_count": 5,
   "metadata": {},
   "outputs": [
    {
     "data": {
      "text/plain": [
       "True"
      ]
     },
     "execution_count": 5,
     "metadata": {},
     "output_type": "execute_result"
    }
   ],
   "source": [
    "is_prime2(23)"
   ]
  },
  {
   "cell_type": "code",
   "execution_count": 40,
   "metadata": {},
   "outputs": [],
   "source": [
    "#function to print list of primes up to number\n",
    "\n",
    "def prime_list(numb):\n",
    "    b=[]\n",
    "    for i in range(2,numb):\n",
    "        if is_prime(i) == True:\n",
    "            b.append(i)\n",
    "    return b\n",
    "        "
   ]
  },
  {
   "cell_type": "code",
   "execution_count": null,
   "metadata": {},
   "outputs": [],
   "source": []
  },
  {
   "cell_type": "code",
   "execution_count": 50,
   "metadata": {},
   "outputs": [
    {
     "name": "stdout",
     "output_type": "stream",
     "text": [
      "[2, 3, 5, 7, 11, 13, 17, 19, 23, 29, 31, 37, 41, 43, 47, 53, 59, 61, 67, 71, 73, 79, 83, 89, 97, 101, 103, 107, 109, 113, 127, 131, 137, 139, 149, 151, 157, 163, 167, 173, 179, 181, 191, 193, 197, 199, 211, 223, 227, 229, 233, 239, 241, 251, 257, 263, 269, 271, 277, 281, 283, 293, 307, 311, 313, 317, 331, 337, 347, 349, 353, 359, 367, 373, 379, 383, 389, 397, 401, 409, 419, 421, 431, 433, 439, 443, 449, 457, 461, 463, 467, 479, 487, 491, 499, 503, 509, 521, 523, 541, 547, 557, 563, 569, 571, 577, 587, 593, 599, 601, 607, 613, 617, 619, 631, 641, 643, 647, 653, 659, 661, 673, 677, 683, 691, 701, 709, 719, 727, 733, 739, 743, 751, 757, 761, 769, 773, 787, 797, 809, 811, 821, 823, 827, 829, 839, 853, 857, 859, 863, 877, 881, 883, 887, 907, 911, 919, 929, 937, 941, 947, 953, 967, 971, 977, 983, 991, 997]\n"
     ]
    },
    {
     "data": {
      "text/plain": [
       "168"
      ]
     },
     "execution_count": 50,
     "metadata": {},
     "output_type": "execute_result"
    }
   ],
   "source": [
    "primes = prime_list(1000)\n",
    "print(primes)\n",
    "len(primes)"
   ]
  },
  {
   "cell_type": "code",
   "execution_count": 55,
   "metadata": {},
   "outputs": [
    {
     "name": "stdout",
     "output_type": "stream",
     "text": [
      "[2, 3, 5, 7, 11, 13, 17, 19, 23, 29, 31, 37, 41, 43, 47, 53, 59, 61, 67, 71, 73, 79, 83, 89, 97, 101, 103, 107, 109, 113, 127, 131, 137, 139, 149, 151, 157, 163, 167, 173, 179, 181, 191, 193, 197, 199, 211, 223, 227, 229, 233, 239, 241, 251, 257, 263, 269, 271, 277, 281, 283, 293, 307, 311, 313, 317, 331, 337, 347, 349, 353, 359, 367, 373, 379, 383, 389, 397, 401, 409, 419, 421, 431, 433, 439, 443, 449, 457, 461, 463, 467, 479, 487, 491, 499, 503, 509, 521, 523, 541, 547, 557, 563, 569, 571, 577, 587, 593, 599, 601, 607, 613, 617, 619, 631, 641, 643, 647, 653, 659, 661, 673, 677, 683, 691, 701, 709, 719, 727, 733, 739, 743, 751, 757, 761, 769, 773, 787, 797, 809, 811, 821, 823, 827, 829, 839, 853, 857, 859, 863, 877, 881, 883, 887, 907, 911, 919, 929, 937, 941, 947, 953, 967, 971, 977, 983, 991, 997]\n"
     ]
    }
   ],
   "source": [
    "# example of efficient prime number sieve by Gries & Misra via Anmol Singh Jaggi \n",
    "# improves on Sieve of Eratosthenes, which has time complexity of  O(n log log n) \n",
    "\n",
    "def sieve(range_max):\n",
    "    \"\"\"\n",
    "    Is is O(n) because every number is marked prime/composite exactly once.\n",
    "    Lets say there is a number num = p1^e1 * p2^e2 * p3^e3.\n",
    "    It will be marked only once when i = p1^(e1-1) * p2^e2 * p3^e3 and primes[j] = p1.\n",
    "    Very clever, yet easy to implement.\n",
    "    https://cp-algorithms.com/algebra/prime-sieve-linear.html\n",
    "    \"\"\"\n",
    "    is_prime = [True] * range_max\n",
    "    primes = []\n",
    "    spf = [None] * range_max\n",
    "    is_prime[0] = is_prime[1] = False\n",
    "    for i in range(2, range_max):\n",
    "        if is_prime[i]:\n",
    "            primes.append(i)\n",
    "            # A prime number is its own smallest prime factor\n",
    "            spf[i] = i\n",
    "\n",
    "        j = 0\n",
    "        while j < len(primes) and i * primes[j] < range_max and primes[j] <= spf[i]:\n",
    "            # This loop will only run once for even numbers.\n",
    "            is_prime[i * primes[j]] = False\n",
    "            spf[i * primes[j]] = primes[j]\n",
    "            j += 1\n",
    "\n",
    "    return primes\n",
    "\n",
    "\n",
    "def main():\n",
    "    print(sieve(1000))\n",
    "\n",
    "\n",
    "if __name__ == \"__main__\":\n",
    "    main()"
   ]
  },
  {
   "cell_type": "code",
   "execution_count": null,
   "metadata": {},
   "outputs": [],
   "source": [
    "# Anmol Singh Jaggi github\n",
    "# https://github.com/Anmol-Singh-Jaggi/interview-notes/blob/master/notes/algo-ds-practice/problems/number_theory/sieve_of_eratosthenes/sieve_fastest.py"
   ]
  },
  {
   "cell_type": "code",
   "execution_count": null,
   "metadata": {},
   "outputs": [],
   "source": []
  },
  {
   "cell_type": "code",
   "execution_count": null,
   "metadata": {},
   "outputs": [],
   "source": []
  },
  {
   "cell_type": "markdown",
   "metadata": {},
   "source": [
    "#### Duplicates Function"
   ]
  },
  {
   "cell_type": "markdown",
   "metadata": {},
   "source": [
    "Take a list of numbers and return only the duplicates"
   ]
  },
  {
   "cell_type": "code",
   "execution_count": 7,
   "metadata": {},
   "outputs": [],
   "source": [
    "a =[1,2,2,3,3,4,5,5]"
   ]
  },
  {
   "cell_type": "code",
   "execution_count": 11,
   "metadata": {},
   "outputs": [],
   "source": [
    "def duplicates(sequence):\n",
    "    \n",
    "    seen = []\n",
    "    seen_twice= [] # create empty lists\n",
    "    \n",
    "    for i in sequence:\n",
    "        if i in seen:\n",
    "            seen_twice.append(i)\n",
    "        else:\n",
    "            seen.append(i)\n",
    "    return seen_twice"
   ]
  },
  {
   "cell_type": "code",
   "execution_count": 12,
   "metadata": {},
   "outputs": [
    {
     "data": {
      "text/plain": [
       "[2, 3, 5]"
      ]
     },
     "execution_count": 12,
     "metadata": {},
     "output_type": "execute_result"
    }
   ],
   "source": [
    "duplicates(a)"
   ]
  },
  {
   "cell_type": "markdown",
   "metadata": {},
   "source": [
    "#### Duplicates Function - List Comprehension"
   ]
  },
  {
   "cell_type": "code",
   "execution_count": 15,
   "metadata": {},
   "outputs": [],
   "source": [
    "def duplicates_lc(seq):\n",
    "    return list(set([x for x in seq if seq.count(x) >1]))"
   ]
  },
  {
   "cell_type": "code",
   "execution_count": 16,
   "metadata": {},
   "outputs": [
    {
     "data": {
      "text/plain": [
       "[2, 3, 5]"
      ]
     },
     "execution_count": 16,
     "metadata": {},
     "output_type": "execute_result"
    }
   ],
   "source": [
    "duplicates_lc(a)"
   ]
  },
  {
   "cell_type": "code",
   "execution_count": null,
   "metadata": {},
   "outputs": [],
   "source": []
  },
  {
   "cell_type": "markdown",
   "metadata": {},
   "source": [
    "#### Palindrome"
   ]
  },
  {
   "cell_type": "markdown",
   "metadata": {},
   "source": [
    "Palindrome: a word, phrase, or sequence that reads the same backward as forward, e.g., madam or nurses run.\n",
    "Create a function to test if a word is a palindrome"
   ]
  },
  {
   "cell_type": "code",
   "execution_count": 25,
   "metadata": {},
   "outputs": [],
   "source": [
    "def palindrome(word):\n",
    "    reverse = word[::-1]\n",
    "    if word == reverse:\n",
    "        return f\"{word} is a palindrome\"\n",
    "    else:\n",
    "        return f\"{word} is not a palindrome\""
   ]
  },
  {
   "cell_type": "code",
   "execution_count": 29,
   "metadata": {},
   "outputs": [
    {
     "data": {
      "text/plain": [
       "'madam is a palindrome'"
      ]
     },
     "execution_count": 29,
     "metadata": {},
     "output_type": "execute_result"
    }
   ],
   "source": [
    "palindrome('madam')"
   ]
  },
  {
   "cell_type": "code",
   "execution_count": 30,
   "metadata": {},
   "outputs": [
    {
     "data": {
      "text/plain": [
       "'adam is not a palindrome'"
      ]
     },
     "execution_count": 30,
     "metadata": {},
     "output_type": "execute_result"
    }
   ],
   "source": [
    "palindrome('adam')"
   ]
  },
  {
   "cell_type": "code",
   "execution_count": 31,
   "metadata": {},
   "outputs": [
    {
     "data": {
      "text/plain": [
       "\"madam I'm adam is not a palindrome\""
      ]
     },
     "execution_count": 31,
     "metadata": {},
     "output_type": "execute_result"
    }
   ],
   "source": [
    "palindrome(\"madam I'm adam\")"
   ]
  },
  {
   "cell_type": "markdown",
   "metadata": {},
   "source": [
    "#### Palindrome including phrases and numbers"
   ]
  },
  {
   "cell_type": "code",
   "execution_count": 79,
   "metadata": {},
   "outputs": [],
   "source": [
    "punctuation = \"!@#$%^&*()_+<>?:.,;''-\"  # punctuation list"
   ]
  },
  {
   "cell_type": "code",
   "execution_count": 85,
   "metadata": {},
   "outputs": [],
   "source": [
    "def palindrome_p(phrase):\n",
    "    str_phrase = str(phrase).lower().replace(\" \",\"\").replace('\"', '') # convert to string and remove capital letters and spaces\n",
    "    for char in str_phrase:\n",
    "        if char in punctuation:\n",
    "            str_phrase = str_phrase.replace(char, \"\")\n",
    "    \n",
    "    reverse = str_phrase[::-1]\n",
    "    if str_phrase == reverse:\n",
    "        return f\"{phrase} is a palindrome\"\n",
    "    else:\n",
    "        return f\"{str_phrase} is not a palindrome\""
   ]
  },
  {
   "cell_type": "code",
   "execution_count": 86,
   "metadata": {},
   "outputs": [
    {
     "data": {
      "text/plain": [
       "\"madam, I'm adam is a palindrome\""
      ]
     },
     "execution_count": 86,
     "metadata": {},
     "output_type": "execute_result"
    }
   ],
   "source": [
    "palindrome_p(\"madam, I'm adam\")"
   ]
  },
  {
   "cell_type": "code",
   "execution_count": 87,
   "metadata": {},
   "outputs": [
    {
     "data": {
      "text/plain": [
       "'5555 is a palindrome'"
      ]
     },
     "execution_count": 87,
     "metadata": {},
     "output_type": "execute_result"
    }
   ],
   "source": [
    "palindrome_p(5555)"
   ]
  },
  {
   "cell_type": "code",
   "execution_count": 88,
   "metadata": {},
   "outputs": [
    {
     "data": {
      "text/plain": [
       "'Mr. Owl ate my metal worm is a palindrome'"
      ]
     },
     "execution_count": 88,
     "metadata": {},
     "output_type": "execute_result"
    }
   ],
   "source": [
    "palindrome_p(\"Mr. Owl ate my metal worm\")"
   ]
  },
  {
   "cell_type": "markdown",
   "metadata": {},
   "source": [
    "Demetri Martin's Palindrome <br>\n",
    "https://web.archive.org/web/20100629014254/http://classes.yale.edu/fractals/Panorama/Literature/Martin/MartinPalindrome.html"
   ]
  },
  {
   "cell_type": "code",
   "execution_count": 91,
   "metadata": {},
   "outputs": [],
   "source": [
    "DIM = '''Dammit I'm mad   Evil is a deed as I live.   God, am I reviled?   I rise, my bed on a sun, I melt.   To be not one man emanating is sad. I piss.   Alas it is so late. Who stops to help? Man, it is hot.       I'm in it.   I tell.   I am not a devil.   I level \"Mad Dog\".       Ah, say burning is as a deified gulp   in my halo of a mired rum tin.   I erase many men. Oh, to be man, a sin.   Is evil in a clam? In a trap?   No. It is open.   On it I was stuck.       Rats peed on hope.   Elsewhere dips a web.   Be still if I fill its ebb.   Ew, a spider ... eh?   We sleep.       Oh no!   Deep, stark cuts saw it in one position.   Part animal, can I live? Sin is a name.   Both, one ... my names are in it. Murder?   I'm a fool. A hymn I plug,   Deified as a sign in ruby ash - a Goddam level I lived at.       On mail let it in. I'm it.   Oh, sit in ample hot spots.   Oh, wet!   A loss it is alas (sip). I'd assign it a name.   Name not one bottle minus an ode by me:   \"Sir, I deliver. I'm a dog.\"   Evil is a deed as I live.   Dammit I'm mad.'''"
   ]
  },
  {
   "cell_type": "code",
   "execution_count": 92,
   "metadata": {},
   "outputs": [
    {
     "data": {
      "text/plain": [
       "'Dammit I\\'m mad   Evil is a deed as I live.   God, am I reviled?   I rise, my bed on a sun, I melt.   To be not one man emanating is sad. I piss.   Alas it is so late. Who stops to help? Man, it is hot.       I\\'m in it.   I tell.   I am not a devil.   I level \"Mad Dog\".       Ah, say burning is as a deified gulp   in my halo of a mired rum tin.   I erase many men. Oh, to be man, a sin.   Is evil in a clam? In a trap?   No. It is open.   On it I was stuck.       Rats peed on hope.   Elsewhere dips a web.   Be still if I fill its ebb.   Ew, a spider ... eh?   We sleep.       Oh no!   Deep, stark cuts saw it in one position.   Part animal, can I live? Sin is a name.   Both, one ... my names are in it. Murder?   I\\'m a fool. A hymn I plug,   Deified as a sign in ruby ash - a Goddam level I lived at.       On mail let it in. I\\'m it.   Oh, sit in ample hot spots.   Oh, wet!   A loss it is alas (sip). I\\'d assign it a name.   Name not one bottle minus an ode by me:   \"Sir, I deliver. I\\'m a dog.\"   Evil is a deed as I live.   Dammit I\\'m mad. is a palindrome'"
      ]
     },
     "execution_count": 92,
     "metadata": {},
     "output_type": "execute_result"
    }
   ],
   "source": [
    "palindrome_p(DIM)"
   ]
  },
  {
   "cell_type": "code",
   "execution_count": null,
   "metadata": {},
   "outputs": [],
   "source": []
  },
  {
   "cell_type": "markdown",
   "metadata": {},
   "source": [
    "#### Fibonacci Sequence"
   ]
  },
  {
   "cell_type": "code",
   "execution_count": 2,
   "metadata": {},
   "outputs": [],
   "source": [
    "# Fibonacci sequence\n",
    "# 0 returns 0, counts as 0th item, 1 is 1st item\n",
    "\n",
    "def fib(a):\n",
    "    f1 = 0\n",
    "    f2 = 1\n",
    "    fibo =[]\n",
    "    for i in range(0,a+1):\n",
    "        fibo.append(f1)\n",
    "        fibsum = f1+f2\n",
    "        f1 = f2\n",
    "        f2 = fibsum\n",
    "    return fibo"
   ]
  },
  {
   "cell_type": "code",
   "execution_count": 3,
   "metadata": {},
   "outputs": [
    {
     "data": {
      "text/plain": [
       "[0, 1, 1, 2, 3, 5, 8, 13, 21, 34, 55]"
      ]
     },
     "execution_count": 3,
     "metadata": {},
     "output_type": "execute_result"
    }
   ],
   "source": [
    "fib(10)"
   ]
  },
  {
   "cell_type": "markdown",
   "metadata": {},
   "source": [
    "#### Nth item of Fibonacci Sequence"
   ]
  },
  {
   "cell_type": "code",
   "execution_count": 4,
   "metadata": {},
   "outputs": [],
   "source": [
    "#find nth\n",
    "\n",
    "def fib_n(a): \n",
    "    f1 = 0  # start 0th = 0\n",
    "    f2 = 1  # start 1st = 1\n",
    "    if a < 0:\n",
    "        print(\"has to be positive\")\n",
    "    elif a == 0: \n",
    "        return f1 # return 0\n",
    "    elif a == 1:\n",
    "        return f2 # return 1\n",
    "    else:\n",
    "        for i in range(2,a+1):  # start remaining sequence at 2\n",
    "            fibsum = f1+f2\n",
    "            f1 = f2\n",
    "            f2 = fibsum\n",
    "    return f2"
   ]
  },
  {
   "cell_type": "code",
   "execution_count": 5,
   "metadata": {},
   "outputs": [
    {
     "data": {
      "text/plain": [
       "55"
      ]
     },
     "execution_count": 5,
     "metadata": {},
     "output_type": "execute_result"
    }
   ],
   "source": [
    "fib_n(10)"
   ]
  },
  {
   "cell_type": "code",
   "execution_count": null,
   "metadata": {},
   "outputs": [],
   "source": []
  },
  {
   "cell_type": "markdown",
   "metadata": {},
   "source": [
    "#### Stock Prices"
   ]
  },
  {
   "cell_type": "code",
   "execution_count": 6,
   "metadata": {},
   "outputs": [],
   "source": [
    "# for a list of prices return the max profit, buying at lowest price and selling at highest price\n",
    "# can't sell before you buy"
   ]
  },
  {
   "cell_type": "code",
   "execution_count": 7,
   "metadata": {},
   "outputs": [],
   "source": [
    "prices =[8,3,5,7,9,6] # should return 6, buy at 3, sell at 9\n",
    "prices2 =[8,3,5,7,9,6,12,5,2,7,17] # should return 15, buy at 2, sell at 17"
   ]
  },
  {
   "cell_type": "code",
   "execution_count": 8,
   "metadata": {},
   "outputs": [],
   "source": [
    "def max_profit(price_list):\n",
    "    \n",
    "    if len(price_list) < 2:\n",
    "        print(\"need at least 2 values\")\n",
    "        \n",
    "    min_price = price_list[0] # start potential buy price as first price\n",
    "    profit = 0 # in case there are no buying and selling opportunities\n",
    "    \n",
    "    for i in price_list:\n",
    "        if i < min_price:\n",
    "            min_price = i\n",
    "        if (i - min_price) > profit:\n",
    "            profit = (i - min_price)\n",
    "            \n",
    "    return profit"
   ]
  },
  {
   "cell_type": "code",
   "execution_count": 9,
   "metadata": {},
   "outputs": [
    {
     "data": {
      "text/plain": [
       "6"
      ]
     },
     "execution_count": 9,
     "metadata": {},
     "output_type": "execute_result"
    }
   ],
   "source": [
    "max_profit(prices)"
   ]
  },
  {
   "cell_type": "code",
   "execution_count": 10,
   "metadata": {},
   "outputs": [
    {
     "data": {
      "text/plain": [
       "15"
      ]
     },
     "execution_count": 10,
     "metadata": {},
     "output_type": "execute_result"
    }
   ],
   "source": [
    "max_profit(prices2)"
   ]
  },
  {
   "cell_type": "markdown",
   "metadata": {},
   "source": [
    "#### Stock Prices - Alternative"
   ]
  },
  {
   "cell_type": "code",
   "execution_count": 11,
   "metadata": {},
   "outputs": [],
   "source": [
    "def max_profit_alt(price_list):\n",
    "        \n",
    "    if len(price_list) < 2:\n",
    "        print(\"need at least 2 values\")\n",
    "        \n",
    "    min_price = price_list[0] # start potential buy price as first price\n",
    "    profit = 0 # in case there are no buying and selling opportunities\n",
    "    \n",
    "    for i in price_list:\n",
    "        min_price = min(i, min_price)\n",
    "        profit = max((i - min_price), profit)\n",
    "            \n",
    "    return profit"
   ]
  },
  {
   "cell_type": "code",
   "execution_count": 12,
   "metadata": {},
   "outputs": [
    {
     "data": {
      "text/plain": [
       "15"
      ]
     },
     "execution_count": 12,
     "metadata": {},
     "output_type": "execute_result"
    }
   ],
   "source": [
    "max_profit_alt(prices2)"
   ]
  },
  {
   "cell_type": "markdown",
   "metadata": {},
   "source": [
    "#### Test string for duplicate characters"
   ]
  },
  {
   "cell_type": "code",
   "execution_count": 13,
   "metadata": {},
   "outputs": [],
   "source": [
    "# Test a string to determine whether it has unique characters"
   ]
  },
  {
   "cell_type": "code",
   "execution_count": 15,
   "metadata": {},
   "outputs": [],
   "source": [
    "str_test = 'afsljakueouwvsdg'\n",
    "str_test2 = 'asdfghjklqwertyuio'"
   ]
  },
  {
   "cell_type": "code",
   "execution_count": 14,
   "metadata": {},
   "outputs": [],
   "source": [
    "def no_dups(string): # returns true if all characters are unique\n",
    "    \n",
    "    letters=[]\n",
    "    for letter in string:\n",
    "        if letter in letters:\n",
    "            return False\n",
    "        letters.append(letter)\n",
    "    return True"
   ]
  },
  {
   "cell_type": "code",
   "execution_count": 16,
   "metadata": {},
   "outputs": [
    {
     "data": {
      "text/plain": [
       "False"
      ]
     },
     "execution_count": 16,
     "metadata": {},
     "output_type": "execute_result"
    }
   ],
   "source": [
    "no_dups(str_test)"
   ]
  },
  {
   "cell_type": "code",
   "execution_count": 17,
   "metadata": {},
   "outputs": [
    {
     "data": {
      "text/plain": [
       "True"
      ]
     },
     "execution_count": 17,
     "metadata": {},
     "output_type": "execute_result"
    }
   ],
   "source": [
    "no_dups(str_test2)"
   ]
  },
  {
   "cell_type": "markdown",
   "metadata": {},
   "source": [
    "#### Test string for duplicate characters - dictionary solution"
   ]
  },
  {
   "cell_type": "code",
   "execution_count": 18,
   "metadata": {},
   "outputs": [],
   "source": [
    "# Same test using a dictionary to solve"
   ]
  },
  {
   "cell_type": "code",
   "execution_count": 19,
   "metadata": {},
   "outputs": [],
   "source": [
    "def no_duplicates(string):\n",
    "  letters = {}\n",
    "  for letter in string:\n",
    "    if letter in letters:\n",
    "      return False\n",
    "    letters[letter] = True\n",
    "  return True"
   ]
  },
  {
   "cell_type": "code",
   "execution_count": 20,
   "metadata": {},
   "outputs": [
    {
     "data": {
      "text/plain": [
       "True"
      ]
     },
     "execution_count": 20,
     "metadata": {},
     "output_type": "execute_result"
    }
   ],
   "source": [
    "no_duplicates(str_test2)"
   ]
  },
  {
   "cell_type": "code",
   "execution_count": null,
   "metadata": {},
   "outputs": [],
   "source": []
  },
  {
   "cell_type": "markdown",
   "metadata": {},
   "source": [
    "#### Reverse a string"
   ]
  },
  {
   "cell_type": "code",
   "execution_count": 21,
   "metadata": {},
   "outputs": [],
   "source": [
    "def reverse(string):\n",
    "    reverse_str = \"\"\n",
    "    for letter in string:\n",
    "        reverse_str = letter + reverse_str\n",
    "    return reverse_str"
   ]
  },
  {
   "cell_type": "code",
   "execution_count": 22,
   "metadata": {},
   "outputs": [
    {
     "data": {
      "text/plain": [
       "'oiuytrewqlkjhgfdsa'"
      ]
     },
     "execution_count": 22,
     "metadata": {},
     "output_type": "execute_result"
    }
   ],
   "source": [
    "reverse(str_test2)"
   ]
  },
  {
   "cell_type": "markdown",
   "metadata": {},
   "source": [
    "#### Reverse a string using slice"
   ]
  },
  {
   "cell_type": "code",
   "execution_count": 25,
   "metadata": {},
   "outputs": [],
   "source": [
    "def reverse_slice(string):\n",
    "    return string[::-1]  # slice format [start:stop:step]"
   ]
  },
  {
   "cell_type": "code",
   "execution_count": 26,
   "metadata": {},
   "outputs": [
    {
     "data": {
      "text/plain": [
       "'oiuytrewqlkjhgfdsa'"
      ]
     },
     "execution_count": 26,
     "metadata": {},
     "output_type": "execute_result"
    }
   ],
   "source": [
    "reverse_slice(str_test2)"
   ]
  },
  {
   "cell_type": "markdown",
   "metadata": {},
   "source": [
    "#### Reverse a string using python built in function"
   ]
  },
  {
   "cell_type": "code",
   "execution_count": 28,
   "metadata": {},
   "outputs": [],
   "source": [
    "def reverse_fn(string):\n",
    "    reverse = \"\".join(reversed(string))\n",
    "    return reverse"
   ]
  },
  {
   "cell_type": "code",
   "execution_count": 29,
   "metadata": {},
   "outputs": [
    {
     "data": {
      "text/plain": [
       "'oiuytrewqlkjhgfdsa'"
      ]
     },
     "execution_count": 29,
     "metadata": {},
     "output_type": "execute_result"
    }
   ],
   "source": [
    "reverse_fn(str_test2)"
   ]
  },
  {
   "cell_type": "code",
   "execution_count": null,
   "metadata": {},
   "outputs": [],
   "source": []
  },
  {
   "cell_type": "markdown",
   "metadata": {},
   "source": [
    "#### String Compression"
   ]
  },
  {
   "cell_type": "code",
   "execution_count": 3,
   "metadata": {},
   "outputs": [],
   "source": [
    "string_eg = 'aaaaagedgehhhhhhwwww'"
   ]
  },
  {
   "cell_type": "code",
   "execution_count": 5,
   "metadata": {},
   "outputs": [],
   "source": [
    "def compress(string):\n",
    "  if len(string) == 0:\n",
    "    return string\n",
    "  tracker = []\n",
    "  current_letter = string[0]\n",
    "  current_count = 1\n",
    "  for letter in string[1:]:\n",
    "    if current_letter == letter:\n",
    "      current_count += 1\n",
    "    else:\n",
    "      tracker.append(current_letter + str(current_count))\n",
    "      current_letter = letter\n",
    "      current_count = 1\n",
    "  tracker.append(current_letter + str(current_count))\n",
    "  compressed = \"\".join(tracker)\n",
    "  if len(compressed) < len(string):\n",
    "    return compressed\n",
    "  else:\n",
    "    return string\n"
   ]
  },
  {
   "cell_type": "code",
   "execution_count": 6,
   "metadata": {},
   "outputs": [
    {
     "data": {
      "text/plain": [
       "'a5g1e1d1g1e1h6w4'"
      ]
     },
     "execution_count": 6,
     "metadata": {},
     "output_type": "execute_result"
    }
   ],
   "source": [
    "compress(string_eg)"
   ]
  },
  {
   "cell_type": "markdown",
   "metadata": {},
   "source": [
    "#### Number Swapper"
   ]
  },
  {
   "cell_type": "code",
   "execution_count": 10,
   "metadata": {},
   "outputs": [],
   "source": [
    "def number_swapper(a, b):\n",
    "  a ^= b\n",
    "  b ^= a\n",
    "  a ^= b\n",
    "  return (a, b)"
   ]
  },
  {
   "cell_type": "code",
   "execution_count": 11,
   "metadata": {},
   "outputs": [],
   "source": [
    "a = 124972\n",
    "b = 79879"
   ]
  },
  {
   "cell_type": "code",
   "execution_count": 12,
   "metadata": {},
   "outputs": [
    {
     "data": {
      "text/plain": [
       "(79879, 124972)"
      ]
     },
     "execution_count": 12,
     "metadata": {},
     "output_type": "execute_result"
    }
   ],
   "source": [
    "number_swapper(a, b)"
   ]
  },
  {
   "cell_type": "code",
   "execution_count": 13,
   "metadata": {},
   "outputs": [
    {
     "data": {
      "text/plain": [
       "124972"
      ]
     },
     "execution_count": 13,
     "metadata": {},
     "output_type": "execute_result"
    }
   ],
   "source": [
    "a"
   ]
  },
  {
   "cell_type": "markdown",
   "metadata": {},
   "source": [
    "#### Word Frequencies"
   ]
  },
  {
   "cell_type": "code",
   "execution_count": 14,
   "metadata": {},
   "outputs": [],
   "source": [
    "class TextStats(object):\n",
    "  def __init__(self, lines):\n",
    "    self.total_words = 0\n",
    "    self.word_counts = Counter()\n",
    "    for line in lines:\n",
    "      words = line.strip().split(\" \")\n",
    "      self.total_words += len(words)\n",
    "      for word in words:\n",
    "        self.word_counts[word] += 1\n",
    "  \n",
    "  def word_frequency(self, word):\n",
    "    if self.total_words == 0:\n",
    "      return None\n",
    "    return float(self.word_counts[word]) / self.total_words\n",
    "\n",
    "class Counter(dict):\n",
    "  def __missing__(self, item):\n",
    "    return 0"
   ]
  },
  {
   "cell_type": "code",
   "execution_count": 16,
   "metadata": {},
   "outputs": [],
   "source": [
    "testtext=\"Dodgers manager Dave Roberts, wearing a light blue face mask stretched below his face, held back tears Sunday night. He was recalling everything the Dodgers went through to get to where he stood, on a platform down the right-field line in a sparsely filled ballpark 1,400 miles from Dodger Stadium. The time away from family since reporting for an uncertain season in early July. The stance the team took against racial injustice. All the peculiarities playing a 60-game season during a pandemic presented. Through it all, he said, his club stuck together. Then he suppressed the bubbling emotions to deliver a message.We have a lot of work to do, Roberts said. But for the Dodgers fans who are here, the ones who aren’t here, we love you, we’re thinking about you, and this year is our year! This is our year!\""
   ]
  },
  {
   "cell_type": "code",
   "execution_count": 17,
   "metadata": {},
   "outputs": [
    {
     "data": {
      "text/plain": [
       "<__main__.TextStats at 0x1ac0f31a848>"
      ]
     },
     "execution_count": 17,
     "metadata": {},
     "output_type": "execute_result"
    }
   ],
   "source": [
    "TextStats(testtext)"
   ]
  },
  {
   "cell_type": "markdown",
   "metadata": {},
   "source": [
    "#### Factorial Zeros"
   ]
  },
  {
   "cell_type": "code",
   "execution_count": 18,
   "metadata": {},
   "outputs": [],
   "source": [
    "def factorial_zeros(n):\n",
    "  five_factors = 0\n",
    "  while n > 4:\n",
    "    n /= 5\n",
    "    five_factors += n\n",
    "  return five_factors"
   ]
  },
  {
   "cell_type": "code",
   "execution_count": 19,
   "metadata": {},
   "outputs": [
    {
     "data": {
      "text/plain": [
       "2.0"
      ]
     },
     "execution_count": 19,
     "metadata": {},
     "output_type": "execute_result"
    }
   ],
   "source": [
    "factorial_zeros(10)"
   ]
  },
  {
   "cell_type": "code",
   "execution_count": 20,
   "metadata": {},
   "outputs": [
    {
     "data": {
      "text/plain": [
       "24.0"
      ]
     },
     "execution_count": 20,
     "metadata": {},
     "output_type": "execute_result"
    }
   ],
   "source": [
    "factorial_zeros(100)"
   ]
  },
  {
   "cell_type": "markdown",
   "metadata": {},
   "source": [
    "#### Number Max"
   ]
  },
  {
   "cell_type": "code",
   "execution_count": 21,
   "metadata": {},
   "outputs": [],
   "source": [
    "def number_max(a, b):\n",
    "  diff = b - a\n",
    "  sign = (diff & (1 << 63)) >> 63\n",
    "  return a * sign + b * (sign ^ 1)"
   ]
  },
  {
   "cell_type": "code",
   "execution_count": 22,
   "metadata": {},
   "outputs": [
    {
     "data": {
      "text/plain": [
       "124972"
      ]
     },
     "execution_count": 22,
     "metadata": {},
     "output_type": "execute_result"
    }
   ],
   "source": [
    "a"
   ]
  },
  {
   "cell_type": "code",
   "execution_count": 23,
   "metadata": {},
   "outputs": [
    {
     "data": {
      "text/plain": [
       "79879"
      ]
     },
     "execution_count": 23,
     "metadata": {},
     "output_type": "execute_result"
    }
   ],
   "source": [
    "b"
   ]
  },
  {
   "cell_type": "code",
   "execution_count": 24,
   "metadata": {},
   "outputs": [
    {
     "data": {
      "text/plain": [
       "124972"
      ]
     },
     "execution_count": 24,
     "metadata": {},
     "output_type": "execute_result"
    }
   ],
   "source": [
    "number_max(a, b)"
   ]
  },
  {
   "cell_type": "code",
   "execution_count": null,
   "metadata": {},
   "outputs": [],
   "source": []
  },
  {
   "cell_type": "markdown",
   "metadata": {},
   "source": [
    "#### Multiply with addition"
   ]
  },
  {
   "cell_type": "code",
   "execution_count": 34,
   "metadata": {},
   "outputs": [],
   "source": [
    "def multiply(a, b):\n",
    "    product = 0\n",
    "    for x in range(b):\n",
    "        product += a\n",
    "    return product"
   ]
  },
  {
   "cell_type": "code",
   "execution_count": 35,
   "metadata": {},
   "outputs": [
    {
     "data": {
      "text/plain": [
       "35"
      ]
     },
     "execution_count": 35,
     "metadata": {},
     "output_type": "execute_result"
    }
   ],
   "source": [
    "multiply(5, 7)"
   ]
  },
  {
   "cell_type": "markdown",
   "metadata": {},
   "source": [
    "#### Reverse Order of Words"
   ]
  },
  {
   "cell_type": "code",
   "execution_count": 3,
   "metadata": {},
   "outputs": [],
   "source": [
    "Sentence = \"This is an order test\""
   ]
  },
  {
   "cell_type": "code",
   "execution_count": 4,
   "metadata": {},
   "outputs": [],
   "source": [
    "def reverse_words(text):\n",
    "    reverse = []\n",
    "    words = text.split()\n",
    "    for word in words:\n",
    "        reverse.insert(0,word)\n",
    "    return \" \".join(reverse)"
   ]
  },
  {
   "cell_type": "code",
   "execution_count": 5,
   "metadata": {},
   "outputs": [
    {
     "data": {
      "text/plain": [
       "'test order an is This'"
      ]
     },
     "execution_count": 5,
     "metadata": {},
     "output_type": "execute_result"
    }
   ],
   "source": [
    "reverse_words(Sentence)"
   ]
  },
  {
   "cell_type": "markdown",
   "metadata": {},
   "source": [
    "Efficient solution"
   ]
  },
  {
   "cell_type": "code",
   "execution_count": 6,
   "metadata": {},
   "outputs": [],
   "source": [
    "def reverseWord(w):\n",
    "  return ' '.join(w.split()[::-1]) "
   ]
  },
  {
   "cell_type": "code",
   "execution_count": 7,
   "metadata": {},
   "outputs": [
    {
     "data": {
      "text/plain": [
       "'test order an is This'"
      ]
     },
     "execution_count": 7,
     "metadata": {},
     "output_type": "execute_result"
    }
   ],
   "source": [
    "reverseWord(Sentence)"
   ]
  },
  {
   "cell_type": "markdown",
   "metadata": {},
   "source": [
    "#### Power of 2 Test"
   ]
  },
  {
   "cell_type": "code",
   "execution_count": 9,
   "metadata": {},
   "outputs": [],
   "source": [
    "def is_Power_of_two(n):\n",
    "    return n > 0 and (n & (n - 1)) == 0"
   ]
  },
  {
   "cell_type": "code",
   "execution_count": 13,
   "metadata": {},
   "outputs": [
    {
     "data": {
      "text/plain": [
       "False"
      ]
     },
     "execution_count": 13,
     "metadata": {},
     "output_type": "execute_result"
    }
   ],
   "source": [
    "is_Power_of_two(18)"
   ]
  },
  {
   "cell_type": "markdown",
   "metadata": {},
   "source": [
    "It's figuring out if n is either 0 or an exact power of two.\n",
    "\n",
    "It works because a binary power of two is of the form 1000...000 and subtracting one will give you 111...111. Then, when you AND those together, you get zero:\n",
    "\n",
    "    <----- binary ---->\n",
    " n      n    n-1   n&(n-1)\n",
    "--   ----   ----   -------\n",
    " 0   0000   0111    0000 *\n",
    " 1   0001   0000    0000 *\n",
    " 2   0010   0001    0000 *\n",
    " 3   0011   0010    0010\n",
    " 4   0100   0011    0000 *\n",
    " 5   0101   0100    0100\n",
    " 6   0110   0101    0100\n",
    " 7   0111   0110    0110\n",
    " 8   1000   0111    0000 *"
   ]
  },
  {
   "cell_type": "markdown",
   "metadata": {},
   "source": [
    "#### Length of last word"
   ]
  },
  {
   "cell_type": "code",
   "execution_count": 15,
   "metadata": {},
   "outputs": [],
   "source": [
    "Sentence2 = \"This is a test of word length\""
   ]
  },
  {
   "cell_type": "code",
   "execution_count": 14,
   "metadata": {},
   "outputs": [],
   "source": [
    "def word_length(text):\n",
    "    words = text.split()\n",
    "    return len(words[-1])"
   ]
  },
  {
   "cell_type": "code",
   "execution_count": 16,
   "metadata": {},
   "outputs": [
    {
     "data": {
      "text/plain": [
       "6"
      ]
     },
     "execution_count": 16,
     "metadata": {},
     "output_type": "execute_result"
    }
   ],
   "source": [
    "word_length(Sentence2)"
   ]
  },
  {
   "cell_type": "markdown",
   "metadata": {},
   "source": [
    "#### Power of 4"
   ]
  },
  {
   "cell_type": "code",
   "execution_count": 17,
   "metadata": {},
   "outputs": [],
   "source": [
    "def is_Power_of_four(n):\n",
    "    while n and not (n & 0b11):\n",
    "        n >>= 2\n",
    "    return (n == 1)"
   ]
  },
  {
   "cell_type": "code",
   "execution_count": 18,
   "metadata": {},
   "outputs": [
    {
     "data": {
      "text/plain": [
       "True"
      ]
     },
     "execution_count": 18,
     "metadata": {},
     "output_type": "execute_result"
    }
   ],
   "source": [
    "is_Power_of_four(256)"
   ]
  },
  {
   "cell_type": "markdown",
   "metadata": {},
   "source": [
    "alternative"
   ]
  },
  {
   "cell_type": "code",
   "execution_count": 22,
   "metadata": {},
   "outputs": [],
   "source": [
    "def power_of_four_alt(num):\n",
    "    if num == 0:\n",
    "        return False\n",
    "    while (num != 1):\n",
    "        if (num % 4 != 0):\n",
    "            return False\n",
    "        num = num //4\n",
    "    return True"
   ]
  },
  {
   "cell_type": "code",
   "execution_count": 23,
   "metadata": {},
   "outputs": [
    {
     "data": {
      "text/plain": [
       "True"
      ]
     },
     "execution_count": 23,
     "metadata": {},
     "output_type": "execute_result"
    }
   ],
   "source": [
    "power_of_four_alt(256)"
   ]
  },
  {
   "cell_type": "code",
   "execution_count": null,
   "metadata": {},
   "outputs": [],
   "source": []
  },
  {
   "cell_type": "markdown",
   "metadata": {},
   "source": [
    "#### Power of 3"
   ]
  },
  {
   "cell_type": "code",
   "execution_count": 24,
   "metadata": {},
   "outputs": [],
   "source": [
    "def power_of_three(num):\n",
    "    if num == 0:\n",
    "        return False\n",
    "    while (num != 1):\n",
    "        if (num % 3 != 0):\n",
    "            return False\n",
    "        num = num //3\n",
    "    return True"
   ]
  },
  {
   "cell_type": "code",
   "execution_count": 27,
   "metadata": {},
   "outputs": [
    {
     "data": {
      "text/plain": [
       "True"
      ]
     },
     "execution_count": 27,
     "metadata": {},
     "output_type": "execute_result"
    }
   ],
   "source": [
    "power_of_three(81)"
   ]
  },
  {
   "cell_type": "code",
   "execution_count": 28,
   "metadata": {},
   "outputs": [],
   "source": [
    "def is_Power_of_three(n):\n",
    "    while (n % 3 == 0):\n",
    "         n /= 3;         \n",
    "    return n == 1;"
   ]
  },
  {
   "cell_type": "code",
   "execution_count": 29,
   "metadata": {},
   "outputs": [
    {
     "data": {
      "text/plain": [
       "True"
      ]
     },
     "execution_count": 29,
     "metadata": {},
     "output_type": "execute_result"
    }
   ],
   "source": [
    "is_Power_of_three(81)"
   ]
  },
  {
   "cell_type": "code",
   "execution_count": null,
   "metadata": {},
   "outputs": [],
   "source": []
  },
  {
   "cell_type": "code",
   "execution_count": 15,
   "metadata": {},
   "outputs": [],
   "source": [
    "import math\n",
    "def combination_fn(n,k):\n",
    "    numerator = math.factorial(n)\n",
    "    denominator = math.factorial(k) * math.factorial(n-k)\n",
    "    return numerator / denominator"
   ]
  },
  {
   "cell_type": "code",
   "execution_count": 16,
   "metadata": {},
   "outputs": [
    {
     "data": {
      "text/plain": [
       "2118760.0"
      ]
     },
     "execution_count": 16,
     "metadata": {},
     "output_type": "execute_result"
    }
   ],
   "source": [
    "combination_fn(50,5)"
   ]
  },
  {
   "cell_type": "code",
   "execution_count": 12,
   "metadata": {},
   "outputs": [
    {
     "name": "stdout",
     "output_type": "stream",
     "text": [
      "[('1', '2', '3'), ('1', '2', '4'), ('1', '2', '5'), ('1', '2', '6'), ('1', '2', '7'), ('1', '2', '8'), ('1', '2', '9'), ('1', '3', '4'), ('1', '3', '5'), ('1', '3', '6'), ('1', '3', '7'), ('1', '3', '8'), ('1', '3', '9'), ('1', '4', '5'), ('1', '4', '6'), ('1', '4', '7'), ('1', '4', '8'), ('1', '4', '9'), ('1', '5', '6'), ('1', '5', '7'), ('1', '5', '8'), ('1', '5', '9'), ('1', '6', '7'), ('1', '6', '8'), ('1', '6', '9'), ('1', '7', '8'), ('1', '7', '9'), ('1', '8', '9'), ('2', '3', '4'), ('2', '3', '5'), ('2', '3', '6'), ('2', '3', '7'), ('2', '3', '8'), ('2', '3', '9'), ('2', '4', '5'), ('2', '4', '6'), ('2', '4', '7'), ('2', '4', '8'), ('2', '4', '9'), ('2', '5', '6'), ('2', '5', '7'), ('2', '5', '8'), ('2', '5', '9'), ('2', '6', '7'), ('2', '6', '8'), ('2', '6', '9'), ('2', '7', '8'), ('2', '7', '9'), ('2', '8', '9'), ('3', '4', '5'), ('3', '4', '6'), ('3', '4', '7'), ('3', '4', '8'), ('3', '4', '9'), ('3', '5', '6'), ('3', '5', '7'), ('3', '5', '8'), ('3', '5', '9'), ('3', '6', '7'), ('3', '6', '8'), ('3', '6', '9'), ('3', '7', '8'), ('3', '7', '9'), ('3', '8', '9'), ('4', '5', '6'), ('4', '5', '7'), ('4', '5', '8'), ('4', '5', '9'), ('4', '6', '7'), ('4', '6', '8'), ('4', '6', '9'), ('4', '7', '8'), ('4', '7', '9'), ('4', '8', '9'), ('5', '6', '7'), ('5', '6', '8'), ('5', '6', '9'), ('5', '7', '8'), ('5', '7', '9'), ('5', '8', '9'), ('6', '7', '8'), ('6', '7', '9'), ('6', '8', '9'), ('7', '8', '9')]\n"
     ]
    }
   ],
   "source": [
    "from itertools import combinations\n",
    "comb = combinations('123456789',3)\n",
    "comb_list = (list(comb))\n",
    "print (comb_list)"
   ]
  },
  {
   "cell_type": "code",
   "execution_count": 13,
   "metadata": {},
   "outputs": [
    {
     "data": {
      "text/plain": [
       "84"
      ]
     },
     "execution_count": 13,
     "metadata": {},
     "output_type": "execute_result"
    }
   ],
   "source": [
    "len(comb_list)"
   ]
  },
  {
   "cell_type": "code",
   "execution_count": 17,
   "metadata": {},
   "outputs": [
    {
     "data": {
      "text/plain": [
       "84.0"
      ]
     },
     "execution_count": 17,
     "metadata": {},
     "output_type": "execute_result"
    }
   ],
   "source": [
    "combination_fn(9,3)"
   ]
  },
  {
   "cell_type": "code",
   "execution_count": null,
   "metadata": {},
   "outputs": [],
   "source": []
  },
  {
   "cell_type": "markdown",
   "metadata": {},
   "source": [
    "We're holding a mini soccer tournament and 16 people are participating. We'd like to form 4 teams of 4. How many ways are there to do this?"
   ]
  },
  {
   "cell_type": "code",
   "execution_count": null,
   "metadata": {},
   "outputs": [],
   "source": [
    "# order doesn't matter for all teams\n",
    "# team 1. chose 4 out of 16.\n",
    "# team 2. chose 4 out of 12.\n",
    "# team 3. chose 4 out of 8.\n",
    "# team 4. 1 way"
   ]
  },
  {
   "cell_type": "code",
   "execution_count": 20,
   "metadata": {},
   "outputs": [
    {
     "data": {
      "text/plain": [
       "2627625.0"
      ]
     },
     "execution_count": 20,
     "metadata": {},
     "output_type": "execute_result"
    }
   ],
   "source": [
    "(combination_fn(16,4) * combination_fn(12,4) * combination_fn(8,4) * combination_fn(4,4)) / math.factorial(4)"
   ]
  },
  {
   "cell_type": "markdown",
   "metadata": {},
   "source": [
    "A class has 9 boys and 6 girls. If we pick 4 students what is the probability that all will be girls."
   ]
  },
  {
   "cell_type": "code",
   "execution_count": 21,
   "metadata": {},
   "outputs": [
    {
     "data": {
      "text/plain": [
       "1365.0"
      ]
     },
     "execution_count": 21,
     "metadata": {},
     "output_type": "execute_result"
    }
   ],
   "source": [
    "# calculate total combinations - chose 4 out of 15\n",
    "combination_fn(15,4)"
   ]
  },
  {
   "cell_type": "code",
   "execution_count": 22,
   "metadata": {},
   "outputs": [
    {
     "data": {
      "text/plain": [
       "15.0"
      ]
     },
     "execution_count": 22,
     "metadata": {},
     "output_type": "execute_result"
    }
   ],
   "source": [
    "# calculate combinations of girls - chose 4 out of 6\n",
    "combination_fn(6,4)"
   ]
  },
  {
   "cell_type": "code",
   "execution_count": 24,
   "metadata": {},
   "outputs": [
    {
     "data": {
      "text/plain": [
       "0.01098901098901099"
      ]
     },
     "execution_count": 24,
     "metadata": {},
     "output_type": "execute_result"
    }
   ],
   "source": [
    "15 / 1365"
   ]
  },
  {
   "cell_type": "code",
   "execution_count": 26,
   "metadata": {},
   "outputs": [
    {
     "data": {
      "text/plain": [
       "0.01098901098901099"
      ]
     },
     "execution_count": 26,
     "metadata": {},
     "output_type": "execute_result"
    }
   ],
   "source": [
    "1/91 # simplified"
   ]
  },
  {
   "cell_type": "code",
   "execution_count": 33,
   "metadata": {},
   "outputs": [
    {
     "data": {
      "text/plain": [
       "0.010989010989010986"
      ]
     },
     "execution_count": 33,
     "metadata": {},
     "output_type": "execute_result"
    }
   ],
   "source": [
    "# alternative\n",
    "\n",
    "(6/15 * 5/14 * 4/13 * 3/12)"
   ]
  },
  {
   "cell_type": "code",
   "execution_count": null,
   "metadata": {},
   "outputs": [],
   "source": []
  },
  {
   "cell_type": "markdown",
   "metadata": {},
   "source": [
    "Birthday Problem - what is the probability that in a room of 25 someone shares a birthday"
   ]
  },
  {
   "cell_type": "code",
   "execution_count": null,
   "metadata": {},
   "outputs": [],
   "source": [
    "# Probability that no one shares b/day\n",
    "# 365/365 * 364/365 ... 346/365"
   ]
  },
  {
   "cell_type": "code",
   "execution_count": 39,
   "metadata": {},
   "outputs": [
    {
     "data": {
      "text/plain": [
       "0.43130029603053616"
      ]
     },
     "execution_count": 39,
     "metadata": {},
     "output_type": "execute_result"
    }
   ],
   "source": [
    "a = math.factorial(365) / math.factorial(340) # difference of 25\n",
    "b = 365**25\n",
    "\n",
    "# no one share b/day\n",
    "a/b"
   ]
  },
  {
   "cell_type": "code",
   "execution_count": 40,
   "metadata": {},
   "outputs": [
    {
     "data": {
      "text/plain": [
       "0.5686997039694639"
      ]
     },
     "execution_count": 40,
     "metadata": {},
     "output_type": "execute_result"
    }
   ],
   "source": [
    "# share birthday\n",
    "1 - (a/b)"
   ]
  },
  {
   "cell_type": "code",
   "execution_count": null,
   "metadata": {},
   "outputs": [],
   "source": []
  },
  {
   "cell_type": "markdown",
   "metadata": {},
   "source": [
    "### Linear Search"
   ]
  },
  {
   "cell_type": "code",
   "execution_count": 9,
   "metadata": {},
   "outputs": [],
   "source": [
    "def linear_search(arr, x):  #inputarray and target\n",
    "  \n",
    "    for i in range(len(arr)): \n",
    "          if arr[i] == x: \n",
    "            return i \n",
    "  \n",
    "    return -1   # return -1 if target is not in the array"
   ]
  },
  {
   "cell_type": "code",
   "execution_count": 10,
   "metadata": {},
   "outputs": [],
   "source": [
    "test_array = [1,2,3,4,5,6,7,8]"
   ]
  },
  {
   "cell_type": "code",
   "execution_count": 11,
   "metadata": {},
   "outputs": [
    {
     "data": {
      "text/plain": [
       "7"
      ]
     },
     "execution_count": 11,
     "metadata": {},
     "output_type": "execute_result"
    }
   ],
   "source": [
    "linear_search(test_array, 8)"
   ]
  },
  {
   "cell_type": "code",
   "execution_count": 12,
   "metadata": {},
   "outputs": [
    {
     "data": {
      "text/plain": [
       "8"
      ]
     },
     "execution_count": 12,
     "metadata": {},
     "output_type": "execute_result"
    }
   ],
   "source": [
    "test_array[7]"
   ]
  },
  {
   "cell_type": "markdown",
   "metadata": {},
   "source": [
    "### Binary Search"
   ]
  },
  {
   "cell_type": "code",
   "execution_count": 13,
   "metadata": {},
   "outputs": [],
   "source": [
    "def binary_search(arr, item):\n",
    "    start = 0\n",
    "    end = len(arr) - 1\n",
    "\n",
    "    while start <= end:\n",
    "        mid_point = (start + end) // 2\n",
    "\n",
    "        if item < arr[mid_point]:\n",
    "            end = mid_point - 1\n",
    "        elif item > arr[mid_point]:\n",
    "            start = mid_point + 1\n",
    "        else:\n",
    "            return mid_point\n",
    "\n",
    "    return -1"
   ]
  },
  {
   "cell_type": "code",
   "execution_count": 18,
   "metadata": {},
   "outputs": [
    {
     "data": {
      "text/plain": [
       "7"
      ]
     },
     "execution_count": 18,
     "metadata": {},
     "output_type": "execute_result"
    }
   ],
   "source": [
    "binary_search(test_array, 8)"
   ]
  },
  {
   "cell_type": "code",
   "execution_count": null,
   "metadata": {},
   "outputs": [],
   "source": []
  },
  {
   "cell_type": "code",
   "execution_count": null,
   "metadata": {},
   "outputs": [],
   "source": []
  },
  {
   "cell_type": "code",
   "execution_count": null,
   "metadata": {},
   "outputs": [],
   "source": []
  }
 ],
 "metadata": {
  "kernelspec": {
   "display_name": "Python 3",
   "language": "python",
   "name": "python3"
  },
  "language_info": {
   "codemirror_mode": {
    "name": "ipython",
    "version": 3
   },
   "file_extension": ".py",
   "mimetype": "text/x-python",
   "name": "python",
   "nbconvert_exporter": "python",
   "pygments_lexer": "ipython3",
   "version": "3.7.9"
  }
 },
 "nbformat": 4,
 "nbformat_minor": 4
}

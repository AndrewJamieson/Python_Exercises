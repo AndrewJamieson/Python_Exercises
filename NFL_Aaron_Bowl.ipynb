{
 "cells": [
  {
   "cell_type": "markdown",
   "metadata": {},
   "source": [
    "## Aaron Bowl"
   ]
  },
  {
   "cell_type": "markdown",
   "metadata": {},
   "source": [
    "On 1/16/21 in the first game of the NFL Divisional Playoffs, the Green Bay Packers will face the Los Angeles Rams.\n",
    "These teams represent the NFL's top ranked defense (Rams) and offense (Packers).\n",
    "Interestingly the best player on each team is named Aaron. Aaron Rodgers is possibly the best quarterback in football and he is one of the hot favorites for this year's Most Valuable Player award. Aaron Donald is one of the best ever to play his position. He is one of three favorites for this year's Defensive Player of Year. Throw in the Packer's running back Aaron Jones as well. No matter how this game turns out it will be highly influenced by one the Aarons. That's why I'm calling it the Aaron Bowl"
   ]
  },
  {
   "cell_type": "markdown",
   "metadata": {},
   "source": [
    "### Loading Data"
   ]
  },
  {
   "cell_type": "markdown",
   "metadata": {},
   "source": [
    "Data sources:\n",
    "https://www.kaggle.com/c/nfl-big-data-bowl-2020\n",
    "https://www.nfl.com/stats/player-stats/"
   ]
  },
  {
   "cell_type": "code",
   "execution_count": 2,
   "metadata": {},
   "outputs": [],
   "source": [
    "import pandas as pd\n",
    "import numpy as np\n",
    "\n",
    "import seaborn as sns\n",
    "import matplotlib.pyplot as plt\n",
    "%matplotlib inline"
   ]
  },
  {
   "cell_type": "code",
   "execution_count": null,
   "metadata": {},
   "outputs": [],
   "source": []
  }
 ],
 "metadata": {
  "kernelspec": {
   "display_name": "Python 3",
   "language": "python",
   "name": "python3"
  },
  "language_info": {
   "codemirror_mode": {
    "name": "ipython",
    "version": 3
   },
   "file_extension": ".py",
   "mimetype": "text/x-python",
   "name": "python",
   "nbconvert_exporter": "python",
   "pygments_lexer": "ipython3",
   "version": "3.7.9"
  }
 },
 "nbformat": 4,
 "nbformat_minor": 4
}

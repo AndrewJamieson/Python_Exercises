{
 "cells": [
  {
   "cell_type": "code",
   "execution_count": 1,
   "metadata": {},
   "outputs": [],
   "source": [
    "import sqlite3\n",
    "import pandas as pd\n",
    "import numpy as np"
   ]
  },
  {
   "cell_type": "markdown",
   "metadata": {},
   "source": [
    "### Basic Query"
   ]
  },
  {
   "cell_type": "code",
   "execution_count": null,
   "metadata": {},
   "outputs": [],
   "source": [
    "SELECT * \n",
    "FROM table\n",
    "LIMIT 10;"
   ]
  },
  {
   "cell_type": "code",
   "execution_count": null,
   "metadata": {},
   "outputs": [],
   "source": [
    "# in SQL lite\n",
    "conn = sqlite3.connect('nba_db')\n",
    "cur = conn.cursor()"
   ]
  },
  {
   "cell_type": "code",
   "execution_count": null,
   "metadata": {},
   "outputs": [],
   "source": [
    "cur.execute(\"\"\"SELECT *,\n",
    "               FROM players\n",
    "               LIMIT 10;\"\"\")"
   ]
  },
  {
   "cell_type": "markdown",
   "metadata": {},
   "source": [
    "### LIKE"
   ]
  },
  {
   "cell_type": "code",
   "execution_count": null,
   "metadata": {},
   "outputs": [],
   "source": [
    "SELECT last_name, height\n",
    "FROM players\n",
    "WHERE last_name ILIKE 'jam&';"
   ]
  },
  {
   "cell_type": "code",
   "execution_count": null,
   "metadata": {},
   "outputs": [],
   "source": []
  },
  {
   "cell_type": "markdown",
   "metadata": {},
   "source": [
    "### IN"
   ]
  },
  {
   "cell_type": "code",
   "execution_count": null,
   "metadata": {},
   "outputs": [],
   "source": [
    "SELECT *\n",
    "FROM games\n",
    "WHERE month IN ('May', 'June');\n"
   ]
  },
  {
   "cell_type": "code",
   "execution_count": null,
   "metadata": {},
   "outputs": [],
   "source": []
  },
  {
   "cell_type": "markdown",
   "metadata": {},
   "source": [
    "### NOT"
   ]
  },
  {
   "cell_type": "code",
   "execution_count": null,
   "metadata": {},
   "outputs": [],
   "source": [
    "SELECT *\n",
    "FROM games\n",
    "WHERE month NOT IN ('May', 'June');\n"
   ]
  },
  {
   "cell_type": "code",
   "execution_count": null,
   "metadata": {},
   "outputs": [],
   "source": []
  },
  {
   "cell_type": "markdown",
   "metadata": {},
   "source": [
    "### AND"
   ]
  },
  {
   "cell_type": "code",
   "execution_count": null,
   "metadata": {},
   "outputs": [],
   "source": [
    "SELECT team,\n",
    "FROM games\n",
    "WHERE month NOT IN ('May', 'June')\n",
    "AND home_score <= 100;\n"
   ]
  },
  {
   "cell_type": "code",
   "execution_count": null,
   "metadata": {},
   "outputs": [],
   "source": []
  },
  {
   "cell_type": "markdown",
   "metadata": {},
   "source": [
    "### OR"
   ]
  },
  {
   "cell_type": "code",
   "execution_count": null,
   "metadata": {},
   "outputs": [],
   "source": [
    "SELECT *\n",
    "FROM players\n",
    "WHERE team LIKE ‘%Lakers’\n",
    "AND (last_name = ‘Davis’ OR last_name = ‘James);\n"
   ]
  },
  {
   "cell_type": "code",
   "execution_count": null,
   "metadata": {},
   "outputs": [],
   "source": []
  },
  {
   "cell_type": "markdown",
   "metadata": {},
   "source": [
    "### BETWEEN"
   ]
  },
  {
   "cell_type": "code",
   "execution_count": null,
   "metadata": {},
   "outputs": [],
   "source": [
    "SELECT *\n",
    "FROM games\n",
    "WHERE date BETWEEN '2020-01-01' AND '2020-04-01';\n"
   ]
  },
  {
   "cell_type": "code",
   "execution_count": null,
   "metadata": {},
   "outputs": [],
   "source": []
  },
  {
   "cell_type": "markdown",
   "metadata": {},
   "source": [
    "### NULL"
   ]
  },
  {
   "cell_type": "code",
   "execution_count": null,
   "metadata": {},
   "outputs": [],
   "source": [
    "SELECT *\n",
    "FROM players\n",
    "WHERE last_name IS NULL;\n"
   ]
  },
  {
   "cell_type": "code",
   "execution_count": null,
   "metadata": {},
   "outputs": [],
   "source": []
  },
  {
   "cell_type": "markdown",
   "metadata": {},
   "source": [
    "### Simple Join"
   ]
  },
  {
   "cell_type": "code",
   "execution_count": null,
   "metadata": {},
   "outputs": [],
   "source": [
    "# player points\n",
    "SELECT p.last_name, g.points\n",
    "FROM player p\n",
    "JOIN game g\n",
    "ON g.player_id = p.id\n",
    "ORDER BY g.points DESC;"
   ]
  },
  {
   "cell_type": "code",
   "execution_count": null,
   "metadata": {},
   "outputs": [],
   "source": []
  },
  {
   "cell_type": "markdown",
   "metadata": {},
   "source": [
    "### Double Join"
   ]
  },
  {
   "cell_type": "code",
   "execution_count": null,
   "metadata": {},
   "outputs": [],
   "source": [
    "# team points\n",
    "SELECT t.name, g.points\n",
    "FROM player p\n",
    "JOIN game g\n",
    "ON g.player_id = p.id\n",
    "JOIN team t\n",
    "ON t.player_id = p.id\n",
    "ORDER BY g.points;\n"
   ]
  },
  {
   "cell_type": "code",
   "execution_count": null,
   "metadata": {},
   "outputs": [],
   "source": []
  },
  {
   "cell_type": "markdown",
   "metadata": {},
   "source": [
    "### Date Part"
   ]
  },
  {
   "cell_type": "code",
   "execution_count": null,
   "metadata": {},
   "outputs": [],
   "source": [
    "# Sum of Laker points from October to August\n",
    "# No games between 03/11 and 7/29\n",
    "SELECT DATE_PART('month', g.game_time) month, SUM(g.points) points\n",
    "FROM player p\n",
    "JOIN game g\n",
    "ON g.player_id = p.id\n",
    "JOIN team t\n",
    "ON t.player_id = p.id\n",
    "WHERE t.name LIKE '%Lakers'\n",
    "AND g.game_time BETWEEN '2019-10-01' AND '2020-08-13'\n",
    "GROUP BY 1\n",
    "ORDER BY 1;"
   ]
  },
  {
   "cell_type": "code",
   "execution_count": null,
   "metadata": {},
   "outputs": [],
   "source": []
  },
  {
   "cell_type": "markdown",
   "metadata": {},
   "source": [
    "### HAVING"
   ]
  },
  {
   "cell_type": "code",
   "execution_count": null,
   "metadata": {},
   "outputs": [],
   "source": [
    "# players who have scored over 1000 points for their team\n",
    "SELECT t.name, p.last_name, SUM(g.points) points\n",
    "FROM player p\n",
    "JOIN game g\n",
    "ON g.player_id = p.id\n",
    "JOIN team t\n",
    "ON t.player_id = p.id\n",
    "GROUP BY t.name, p.last_name\n",
    "HAVING SUM(g.points) > 1000\n",
    "ORDER BY points DESC;"
   ]
  },
  {
   "cell_type": "code",
   "execution_count": null,
   "metadata": {},
   "outputs": [],
   "source": []
  },
  {
   "cell_type": "markdown",
   "metadata": {},
   "source": [
    "### CASE"
   ]
  },
  {
   "cell_type": "code",
   "execution_count": null,
   "metadata": {},
   "outputs": [],
   "source": [
    "# LeBron points after restart\n",
    "SELECT p.last_name, t.name, g.id, SUM(g.points) points,\n",
    "     CASE WHEN SUM(g.points) > 40 THEN 'top'\n",
    "     WHEN  SUM(g.points) > 20 THEN 'middle'\n",
    "     ELSE 'low' END AS scoring_level\n",
    "FROM player p\n",
    "JOIN game g\n",
    "ON g.player_id = p.id\n",
    "JOIN team t\n",
    "ON t.player_id = p.id\n",
    "WHERE p.last_name = 'James'\n",
    "AND g.game_time > '2019-07-29'\n",
    "GROUP BY 1,2,3\n",
    "ORDER BY 4 DESC;"
   ]
  },
  {
   "cell_type": "code",
   "execution_count": null,
   "metadata": {},
   "outputs": [],
   "source": []
  },
  {
   "cell_type": "markdown",
   "metadata": {},
   "source": [
    "#### What is a subquery"
   ]
  },
  {
   "cell_type": "markdown",
   "metadata": {},
   "source": [
    "What is a subquery? Very simply, it is a query inside of a query. They are useful when you need to carry out a process multiple steps. Often, to retrieve the information you want, you have to do some work on your data before selecting, filtering, or calculating. Subqueries are a popular way of performing this work."
   ]
  },
  {
   "cell_type": "code",
   "execution_count": null,
   "metadata": {},
   "outputs": [],
   "source": []
  },
  {
   "cell_type": "markdown",
   "metadata": {},
   "source": [
    "### WHERE clause"
   ]
  },
  {
   "cell_type": "code",
   "execution_count": null,
   "metadata": {},
   "outputs": [],
   "source": [
    "SELECT\n",
    "-- Select the team names\n",
    "    team_name    \n",
    "FROM team\n",
    "-- Filter for teams with 130 or more point\n",
    "WHERE team_id IN\n",
    "      (SELECT team_id \n",
    "       FROM game\n",
    "       WHERE points >= 130);"
   ]
  },
  {
   "cell_type": "code",
   "execution_count": null,
   "metadata": {},
   "outputs": [],
   "source": []
  },
  {
   "cell_type": "markdown",
   "metadata": {},
   "source": [
    "### FROM clause"
   ]
  },
  {
   "cell_type": "code",
   "execution_count": null,
   "metadata": {},
   "outputs": [],
   "source": [
    "SELECT\n",
    "-- Select player, date, and points from the subquery\n",
    "    player_name,\n",
    "    date,\n",
    "    points,\n",
    "FROM \n",
    "    -- Subquery: select player name, date, and points\n",
    "    (SELECT p.last_name AS player_name, \n",
    "            g.date, \n",
    "           (g.field_goal + g.three_pt + g.free_throw) AS points\n",
    "    FROM game AS g\n",
    "    LEFT JOIN player AS p\n",
    "    ON g.player_id = p.id) AS subquery\n",
    "-- Filter main query by total points scored\n",
    "WHERE points >= 40;\n"
   ]
  },
  {
   "cell_type": "code",
   "execution_count": null,
   "metadata": {},
   "outputs": [],
   "source": []
  },
  {
   "cell_type": "markdown",
   "metadata": {},
   "source": [
    "### SELECT clause"
   ]
  },
  {
   "cell_type": "code",
   "execution_count": null,
   "metadata": {},
   "outputs": [],
   "source": [
    "SELECT\n",
    "-- Select the team name and average points scored\n",
    "    t.name AS team,\n",
    "    ROUND(AVG(g.field_goal + g.three_pt + g.free_throw),0) \n",
    "AS avg_point,\n",
    "    -- Subtract the overall average from the team average\n",
    "    ROUND(AVG(g.field_goal + g.three_pt + g.free_throw) - \n",
    "        (SELECT AVG(g.field_goal + g.three_pt + g.free_throw)\n",
    "         FROM game \n",
    "         WHERE season = '2019/2020'),0) AS diff\n",
    "FROM team AS t\n",
    "LEFT JOIN game AS g\n",
    "ON t.id = g.team_id\n",
    "-- Filter to 2019/2020 season\n",
    "WHERE season = '2019/2020'\n",
    "GROUP BY t.name;"
   ]
  },
  {
   "cell_type": "code",
   "execution_count": null,
   "metadata": {},
   "outputs": [],
   "source": []
  },
  {
   "cell_type": "code",
   "execution_count": null,
   "metadata": {},
   "outputs": [],
   "source": []
  },
  {
   "cell_type": "code",
   "execution_count": null,
   "metadata": {},
   "outputs": [],
   "source": []
  },
  {
   "cell_type": "code",
   "execution_count": null,
   "metadata": {},
   "outputs": [],
   "source": []
  }
 ],
 "metadata": {
  "kernelspec": {
   "display_name": "Python 3",
   "language": "python",
   "name": "python3"
  },
  "language_info": {
   "codemirror_mode": {
    "name": "ipython",
    "version": 3
   },
   "file_extension": ".py",
   "mimetype": "text/x-python",
   "name": "python",
   "nbconvert_exporter": "python",
   "pygments_lexer": "ipython3",
   "version": "3.7.7"
  }
 },
 "nbformat": 4,
 "nbformat_minor": 4
}

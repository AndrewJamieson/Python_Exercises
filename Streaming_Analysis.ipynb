{
 "cells": [
  {
   "cell_type": "code",
   "execution_count": null,
   "metadata": {},
   "outputs": [],
   "source": [
    "# import libaries"
   ]
  },
  {
   "cell_type": "code",
   "execution_count": 1,
   "metadata": {},
   "outputs": [],
   "source": [
    "import pandas as pd\n",
    "import numpy as np\n",
    "import seaborn as sns\n",
    "import matplotlib.pyplot as plt\n",
    "import matplotlib.dates as mdates\n",
    "import datetime\n",
    "\n",
    "import altair as alt\n",
    "from vega_datasets import data"
   ]
  },
  {
   "cell_type": "markdown",
   "metadata": {},
   "source": [
    "### Load Data"
   ]
  },
  {
   "cell_type": "code",
   "execution_count": 2,
   "metadata": {},
   "outputs": [],
   "source": [
    "df_subs = pd.read_csv('subscriptions.csv')"
   ]
  },
  {
   "cell_type": "code",
   "execution_count": 3,
   "metadata": {},
   "outputs": [
    {
     "data": {
      "text/html": [
       "<div>\n",
       "<style scoped>\n",
       "    .dataframe tbody tr th:only-of-type {\n",
       "        vertical-align: middle;\n",
       "    }\n",
       "\n",
       "    .dataframe tbody tr th {\n",
       "        vertical-align: top;\n",
       "    }\n",
       "\n",
       "    .dataframe thead th {\n",
       "        text-align: right;\n",
       "    }\n",
       "</style>\n",
       "<table border=\"1\" class=\"dataframe\">\n",
       "  <thead>\n",
       "    <tr style=\"text-align: right;\">\n",
       "      <th></th>\n",
       "      <th>Date</th>\n",
       "      <th>Disney+</th>\n",
       "      <th>ESPN+</th>\n",
       "      <th>Hulu</th>\n",
       "      <th>Peacock</th>\n",
       "      <th>Apple TV+</th>\n",
       "      <th>HBO Max</th>\n",
       "      <th>Netflix</th>\n",
       "      <th>CBS All Access</th>\n",
       "      <th>Starz</th>\n",
       "      <th>Amazon</th>\n",
       "    </tr>\n",
       "  </thead>\n",
       "  <tbody>\n",
       "    <tr>\n",
       "      <th>0</th>\n",
       "      <td>9/28/2019</td>\n",
       "      <td>NaN</td>\n",
       "      <td>3500000.0</td>\n",
       "      <td>28500000.0</td>\n",
       "      <td>NaN</td>\n",
       "      <td>NaN</td>\n",
       "      <td>NaN</td>\n",
       "      <td>167090000.0</td>\n",
       "      <td>10400000.0</td>\n",
       "      <td>7700000.0</td>\n",
       "      <td>142000000.0</td>\n",
       "    </tr>\n",
       "    <tr>\n",
       "      <th>1</th>\n",
       "      <td>10/5/2019</td>\n",
       "      <td>NaN</td>\n",
       "      <td>NaN</td>\n",
       "      <td>NaN</td>\n",
       "      <td>NaN</td>\n",
       "      <td>NaN</td>\n",
       "      <td>NaN</td>\n",
       "      <td>NaN</td>\n",
       "      <td>NaN</td>\n",
       "      <td>NaN</td>\n",
       "      <td>NaN</td>\n",
       "    </tr>\n",
       "    <tr>\n",
       "      <th>2</th>\n",
       "      <td>10/12/2019</td>\n",
       "      <td>NaN</td>\n",
       "      <td>NaN</td>\n",
       "      <td>NaN</td>\n",
       "      <td>NaN</td>\n",
       "      <td>NaN</td>\n",
       "      <td>NaN</td>\n",
       "      <td>NaN</td>\n",
       "      <td>NaN</td>\n",
       "      <td>NaN</td>\n",
       "      <td>NaN</td>\n",
       "    </tr>\n",
       "    <tr>\n",
       "      <th>3</th>\n",
       "      <td>10/19/2019</td>\n",
       "      <td>NaN</td>\n",
       "      <td>NaN</td>\n",
       "      <td>NaN</td>\n",
       "      <td>NaN</td>\n",
       "      <td>NaN</td>\n",
       "      <td>NaN</td>\n",
       "      <td>NaN</td>\n",
       "      <td>NaN</td>\n",
       "      <td>NaN</td>\n",
       "      <td>NaN</td>\n",
       "    </tr>\n",
       "    <tr>\n",
       "      <th>4</th>\n",
       "      <td>10/26/2019</td>\n",
       "      <td>NaN</td>\n",
       "      <td>NaN</td>\n",
       "      <td>NaN</td>\n",
       "      <td>NaN</td>\n",
       "      <td>NaN</td>\n",
       "      <td>NaN</td>\n",
       "      <td>NaN</td>\n",
       "      <td>NaN</td>\n",
       "      <td>NaN</td>\n",
       "      <td>NaN</td>\n",
       "    </tr>\n",
       "  </tbody>\n",
       "</table>\n",
       "</div>"
      ],
      "text/plain": [
       "         Date  Disney+      ESPN+        Hulu  Peacock  Apple TV+  HBO Max  \\\n",
       "0   9/28/2019      NaN  3500000.0  28500000.0      NaN        NaN      NaN   \n",
       "1   10/5/2019      NaN        NaN         NaN      NaN        NaN      NaN   \n",
       "2  10/12/2019      NaN        NaN         NaN      NaN        NaN      NaN   \n",
       "3  10/19/2019      NaN        NaN         NaN      NaN        NaN      NaN   \n",
       "4  10/26/2019      NaN        NaN         NaN      NaN        NaN      NaN   \n",
       "\n",
       "       Netflix  CBS All Access      Starz       Amazon  \n",
       "0  167090000.0      10400000.0  7700000.0  142000000.0  \n",
       "1          NaN             NaN        NaN          NaN  \n",
       "2          NaN             NaN        NaN          NaN  \n",
       "3          NaN             NaN        NaN          NaN  \n",
       "4          NaN             NaN        NaN          NaN  "
      ]
     },
     "execution_count": 3,
     "metadata": {},
     "output_type": "execute_result"
    }
   ],
   "source": [
    "df_subs.head()"
   ]
  },
  {
   "cell_type": "markdown",
   "metadata": {},
   "source": [
    "### Explore Data"
   ]
  },
  {
   "cell_type": "code",
   "execution_count": 4,
   "metadata": {},
   "outputs": [
    {
     "name": "stdout",
     "output_type": "stream",
     "text": [
      "<class 'pandas.core.frame.DataFrame'>\n",
      "RangeIndex: 66 entries, 0 to 65\n",
      "Data columns (total 11 columns):\n",
      " #   Column          Non-Null Count  Dtype  \n",
      "---  ------          --------------  -----  \n",
      " 0   Date            66 non-null     object \n",
      " 1   Disney+         11 non-null     float64\n",
      " 2   ESPN+           6 non-null      float64\n",
      " 3   Hulu            6 non-null      float64\n",
      " 4   Peacock         5 non-null      float64\n",
      " 5   Apple TV+       3 non-null      float64\n",
      " 6   HBO Max         3 non-null      float64\n",
      " 7   Netflix         5 non-null      float64\n",
      " 8   CBS All Access  6 non-null      float64\n",
      " 9   Starz           6 non-null      float64\n",
      " 10  Amazon          4 non-null      float64\n",
      "dtypes: float64(10), object(1)\n",
      "memory usage: 5.8+ KB\n"
     ]
    }
   ],
   "source": [
    "df_subs.info()"
   ]
  },
  {
   "cell_type": "code",
   "execution_count": 5,
   "metadata": {},
   "outputs": [],
   "source": [
    "# notes \n",
    "# date is an object\n",
    "# 66 rows, but most data is null"
   ]
  },
  {
   "cell_type": "code",
   "execution_count": 6,
   "metadata": {},
   "outputs": [],
   "source": [
    "# convert to datetime\n",
    "df_subs['Date'] = pd.to_datetime(df_subs['Date'])"
   ]
  },
  {
   "cell_type": "code",
   "execution_count": 7,
   "metadata": {},
   "outputs": [],
   "source": [
    "# fill missing data using linear interpolation, limit to inside existing values\n",
    "df_subs = df_subs.interpolate(method ='linear', limit_direction ='both', limit_area='inside') "
   ]
  },
  {
   "cell_type": "code",
   "execution_count": 8,
   "metadata": {},
   "outputs": [
    {
     "data": {
      "text/html": [
       "<div>\n",
       "<style scoped>\n",
       "    .dataframe tbody tr th:only-of-type {\n",
       "        vertical-align: middle;\n",
       "    }\n",
       "\n",
       "    .dataframe tbody tr th {\n",
       "        vertical-align: top;\n",
       "    }\n",
       "\n",
       "    .dataframe thead th {\n",
       "        text-align: right;\n",
       "    }\n",
       "</style>\n",
       "<table border=\"1\" class=\"dataframe\">\n",
       "  <thead>\n",
       "    <tr style=\"text-align: right;\">\n",
       "      <th></th>\n",
       "      <th>Date</th>\n",
       "      <th>Disney+</th>\n",
       "      <th>ESPN+</th>\n",
       "      <th>Hulu</th>\n",
       "      <th>Peacock</th>\n",
       "      <th>Apple TV+</th>\n",
       "      <th>HBO Max</th>\n",
       "      <th>Netflix</th>\n",
       "      <th>CBS All Access</th>\n",
       "      <th>Starz</th>\n",
       "      <th>Amazon</th>\n",
       "    </tr>\n",
       "  </thead>\n",
       "  <tbody>\n",
       "    <tr>\n",
       "      <th>0</th>\n",
       "      <td>2019-09-28</td>\n",
       "      <td>NaN</td>\n",
       "      <td>3.500000e+06</td>\n",
       "      <td>2.850000e+07</td>\n",
       "      <td>NaN</td>\n",
       "      <td>NaN</td>\n",
       "      <td>NaN</td>\n",
       "      <td>1.670900e+08</td>\n",
       "      <td>1.040000e+07</td>\n",
       "      <td>7.700000e+06</td>\n",
       "      <td>1.420000e+08</td>\n",
       "    </tr>\n",
       "    <tr>\n",
       "      <th>1</th>\n",
       "      <td>2019-10-05</td>\n",
       "      <td>NaN</td>\n",
       "      <td>3.738462e+06</td>\n",
       "      <td>2.864615e+07</td>\n",
       "      <td>NaN</td>\n",
       "      <td>NaN</td>\n",
       "      <td>NaN</td>\n",
       "      <td>1.676965e+08</td>\n",
       "      <td>1.046154e+07</td>\n",
       "      <td>7.769231e+06</td>\n",
       "      <td>1.424444e+08</td>\n",
       "    </tr>\n",
       "    <tr>\n",
       "      <th>2</th>\n",
       "      <td>2019-10-12</td>\n",
       "      <td>NaN</td>\n",
       "      <td>3.976923e+06</td>\n",
       "      <td>2.879231e+07</td>\n",
       "      <td>NaN</td>\n",
       "      <td>NaN</td>\n",
       "      <td>NaN</td>\n",
       "      <td>1.683031e+08</td>\n",
       "      <td>1.052308e+07</td>\n",
       "      <td>7.838462e+06</td>\n",
       "      <td>1.428889e+08</td>\n",
       "    </tr>\n",
       "    <tr>\n",
       "      <th>3</th>\n",
       "      <td>2019-10-19</td>\n",
       "      <td>NaN</td>\n",
       "      <td>4.215385e+06</td>\n",
       "      <td>2.893846e+07</td>\n",
       "      <td>NaN</td>\n",
       "      <td>NaN</td>\n",
       "      <td>NaN</td>\n",
       "      <td>1.689096e+08</td>\n",
       "      <td>1.058462e+07</td>\n",
       "      <td>7.907692e+06</td>\n",
       "      <td>1.433333e+08</td>\n",
       "    </tr>\n",
       "    <tr>\n",
       "      <th>4</th>\n",
       "      <td>2019-10-26</td>\n",
       "      <td>NaN</td>\n",
       "      <td>4.453846e+06</td>\n",
       "      <td>2.908462e+07</td>\n",
       "      <td>NaN</td>\n",
       "      <td>NaN</td>\n",
       "      <td>NaN</td>\n",
       "      <td>1.695162e+08</td>\n",
       "      <td>1.064615e+07</td>\n",
       "      <td>7.976923e+06</td>\n",
       "      <td>1.437778e+08</td>\n",
       "    </tr>\n",
       "  </tbody>\n",
       "</table>\n",
       "</div>"
      ],
      "text/plain": [
       "        Date  Disney+         ESPN+          Hulu  Peacock  Apple TV+  \\\n",
       "0 2019-09-28      NaN  3.500000e+06  2.850000e+07      NaN        NaN   \n",
       "1 2019-10-05      NaN  3.738462e+06  2.864615e+07      NaN        NaN   \n",
       "2 2019-10-12      NaN  3.976923e+06  2.879231e+07      NaN        NaN   \n",
       "3 2019-10-19      NaN  4.215385e+06  2.893846e+07      NaN        NaN   \n",
       "4 2019-10-26      NaN  4.453846e+06  2.908462e+07      NaN        NaN   \n",
       "\n",
       "   HBO Max       Netflix  CBS All Access         Starz        Amazon  \n",
       "0      NaN  1.670900e+08    1.040000e+07  7.700000e+06  1.420000e+08  \n",
       "1      NaN  1.676965e+08    1.046154e+07  7.769231e+06  1.424444e+08  \n",
       "2      NaN  1.683031e+08    1.052308e+07  7.838462e+06  1.428889e+08  \n",
       "3      NaN  1.689096e+08    1.058462e+07  7.907692e+06  1.433333e+08  \n",
       "4      NaN  1.695162e+08    1.064615e+07  7.976923e+06  1.437778e+08  "
      ]
     },
     "execution_count": 8,
     "metadata": {},
     "output_type": "execute_result"
    }
   ],
   "source": [
    "df_subs.head()"
   ]
  },
  {
   "cell_type": "code",
   "execution_count": 9,
   "metadata": {},
   "outputs": [],
   "source": [
    "# Disney+, Peacock, Apple TV+, HBO Max are Null initially because they haven't launched yet"
   ]
  },
  {
   "cell_type": "code",
   "execution_count": null,
   "metadata": {},
   "outputs": [],
   "source": []
  },
  {
   "cell_type": "code",
   "execution_count": null,
   "metadata": {},
   "outputs": [],
   "source": []
  },
  {
   "cell_type": "code",
   "execution_count": null,
   "metadata": {},
   "outputs": [],
   "source": []
  },
  {
   "cell_type": "code",
   "execution_count": null,
   "metadata": {},
   "outputs": [],
   "source": []
  },
  {
   "cell_type": "code",
   "execution_count": null,
   "metadata": {},
   "outputs": [],
   "source": []
  }
 ],
 "metadata": {
  "kernelspec": {
   "display_name": "Python 3",
   "language": "python",
   "name": "python3"
  },
  "language_info": {
   "codemirror_mode": {
    "name": "ipython",
    "version": 3
   },
   "file_extension": ".py",
   "mimetype": "text/x-python",
   "name": "python",
   "nbconvert_exporter": "python",
   "pygments_lexer": "ipython3",
   "version": "3.7.9"
  }
 },
 "nbformat": 4,
 "nbformat_minor": 4
}
